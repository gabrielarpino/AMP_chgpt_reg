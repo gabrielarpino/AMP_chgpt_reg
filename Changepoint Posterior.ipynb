{
 "cells": [
  {
   "attachments": {},
   "cell_type": "markdown",
   "id": "13bffaec",
   "metadata": {},
   "source": [
    "## AMP with SE "
   ]
  },
  {
   "cell_type": "code",
   "execution_count": 1,
   "id": "5fd02a45",
   "metadata": {},
   "outputs": [
    {
     "name": "stdout",
     "output_type": "stream",
     "text": [
      "--- δ:  0.5  ---\n"
     ]
    },
    {
     "data": {
      "application/vnd.jupyter.widget-view+json": {
       "model_id": "f0519b019f784bc29c6d7bdf1504d683",
       "version_major": 2,
       "version_minor": 0
      },
      "text/plain": [
       "  0%|          | 0/10 [00:00<?, ?it/s]"
      ]
     },
     "metadata": {},
     "output_type": "display_data"
    },
    {
     "data": {
      "application/vnd.jupyter.widget-view+json": {
       "model_id": "b70491522c9343d38f79e5f9fdca711a",
       "version_major": 2,
       "version_minor": 0
      },
      "text/plain": [
       "  0%|          | 0/10 [00:00<?, ?it/s]"
      ]
     },
     "metadata": {},
     "output_type": "display_data"
    },
    {
     "data": {
      "application/vnd.jupyter.widget-view+json": {
       "model_id": "e0f3a867ab904485a18dde3b6ef50fdc",
       "version_major": 2,
       "version_minor": 0
      },
      "text/plain": [
       "  0%|          | 0/10 [00:00<?, ?it/s]"
      ]
     },
     "metadata": {},
     "output_type": "display_data"
    },
    {
     "name": "stdout",
     "output_type": "stream",
     "text": [
      "--- δ:  1.0  ---\n"
     ]
    },
    {
     "data": {
      "application/vnd.jupyter.widget-view+json": {
       "model_id": "5e41db3e0a444b2c8211f1ea358cf076",
       "version_major": 2,
       "version_minor": 0
      },
      "text/plain": [
       "  0%|          | 0/10 [00:00<?, ?it/s]"
      ]
     },
     "metadata": {},
     "output_type": "display_data"
    },
    {
     "data": {
      "application/vnd.jupyter.widget-view+json": {
       "model_id": "66adf9794cee4760ad80d60a217c392c",
       "version_major": 2,
       "version_minor": 0
      },
      "text/plain": [
       "  0%|          | 0/10 [00:00<?, ?it/s]"
      ]
     },
     "metadata": {},
     "output_type": "display_data"
    },
    {
     "data": {
      "application/vnd.jupyter.widget-view+json": {
       "model_id": "8f5202e442b847d1b39ab1add281d7a8",
       "version_major": 2,
       "version_minor": 0
      },
      "text/plain": [
       "  0%|          | 0/10 [00:00<?, ?it/s]"
      ]
     },
     "metadata": {},
     "output_type": "display_data"
    },
    {
     "name": "stdout",
     "output_type": "stream",
     "text": [
      "--- δ:  1.5  ---\n"
     ]
    },
    {
     "data": {
      "application/vnd.jupyter.widget-view+json": {
       "model_id": "bea177f5dc1f4d4b92d6413815ad79a0",
       "version_major": 2,
       "version_minor": 0
      },
      "text/plain": [
       "  0%|          | 0/10 [00:00<?, ?it/s]"
      ]
     },
     "metadata": {},
     "output_type": "display_data"
    },
    {
     "data": {
      "application/vnd.jupyter.widget-view+json": {
       "model_id": "de2478f2bf5a4e3dabee8417186c372e",
       "version_major": 2,
       "version_minor": 0
      },
      "text/plain": [
       "  0%|          | 0/10 [00:00<?, ?it/s]"
      ]
     },
     "metadata": {},
     "output_type": "display_data"
    },
    {
     "data": {
      "application/vnd.jupyter.widget-view+json": {
       "model_id": "c6eb3a0e847c4f489e9aeaf2a5635f45",
       "version_major": 2,
       "version_minor": 0
      },
      "text/plain": [
       "  0%|          | 0/10 [00:00<?, ?it/s]"
      ]
     },
     "metadata": {},
     "output_type": "display_data"
    },
    {
     "name": "stdout",
     "output_type": "stream",
     "text": [
      "--- δ:  2.0  ---\n"
     ]
    },
    {
     "data": {
      "application/vnd.jupyter.widget-view+json": {
       "model_id": "a2527508874a4f5b8bf5f98b8de52341",
       "version_major": 2,
       "version_minor": 0
      },
      "text/plain": [
       "  0%|          | 0/10 [00:00<?, ?it/s]"
      ]
     },
     "metadata": {},
     "output_type": "display_data"
    },
    {
     "data": {
      "application/vnd.jupyter.widget-view+json": {
       "model_id": "c421dd9c353c41288477371c822a7285",
       "version_major": 2,
       "version_minor": 0
      },
      "text/plain": [
       "  0%|          | 0/10 [00:00<?, ?it/s]"
      ]
     },
     "metadata": {},
     "output_type": "display_data"
    },
    {
     "data": {
      "application/vnd.jupyter.widget-view+json": {
       "model_id": "b3a0623ba3a94d0cadba7a3e2ac21925",
       "version_major": 2,
       "version_minor": 0
      },
      "text/plain": [
       "  0%|          | 0/10 [00:00<?, ?it/s]"
      ]
     },
     "metadata": {},
     "output_type": "display_data"
    },
    {
     "name": "stdout",
     "output_type": "stream",
     "text": [
      "--- δ:  2.5  ---\n"
     ]
    },
    {
     "data": {
      "application/vnd.jupyter.widget-view+json": {
       "model_id": "9cb4cc390e2848cd8dcb37d5e75b1000",
       "version_major": 2,
       "version_minor": 0
      },
      "text/plain": [
       "  0%|          | 0/10 [00:00<?, ?it/s]"
      ]
     },
     "metadata": {},
     "output_type": "display_data"
    },
    {
     "data": {
      "application/vnd.jupyter.widget-view+json": {
       "model_id": "5413189d52b047b192024d80835d5a64",
       "version_major": 2,
       "version_minor": 0
      },
      "text/plain": [
       "  0%|          | 0/10 [00:00<?, ?it/s]"
      ]
     },
     "metadata": {},
     "output_type": "display_data"
    },
    {
     "data": {
      "application/vnd.jupyter.widget-view+json": {
       "model_id": "0df405255b1e416499702e570dacac06",
       "version_major": 2,
       "version_minor": 0
      },
      "text/plain": [
       "  0%|          | 0/10 [00:00<?, ?it/s]"
      ]
     },
     "metadata": {},
     "output_type": "display_data"
    },
    {
     "name": "stdout",
     "output_type": "stream",
     "text": [
      "--- δ:  3.0  ---\n"
     ]
    },
    {
     "data": {
      "application/vnd.jupyter.widget-view+json": {
       "model_id": "8e6c8990492a4eb691adbf3c9377e1cd",
       "version_major": 2,
       "version_minor": 0
      },
      "text/plain": [
       "  0%|          | 0/10 [00:00<?, ?it/s]"
      ]
     },
     "metadata": {},
     "output_type": "display_data"
    },
    {
     "data": {
      "application/vnd.jupyter.widget-view+json": {
       "model_id": "a551b150f61b41aaa19295c701849b56",
       "version_major": 2,
       "version_minor": 0
      },
      "text/plain": [
       "  0%|          | 0/10 [00:00<?, ?it/s]"
      ]
     },
     "metadata": {},
     "output_type": "display_data"
    },
    {
     "data": {
      "application/vnd.jupyter.widget-view+json": {
       "model_id": "c881516b85924d29a296c762729c9fc1",
       "version_major": 2,
       "version_minor": 0
      },
      "text/plain": [
       "  0%|          | 0/10 [00:00<?, ?it/s]"
      ]
     },
     "metadata": {},
     "output_type": "display_data"
    },
    {
     "data": {
      "image/png": "[encoded data removed]",
      "text/plain": [
       "<Figure size 640x480 with 1 Axes>"
      ]
     },
     "metadata": {},
     "output_type": "display_data"
    }
   ],
   "source": [
    "import numpy as np\n",
    "import jax.numpy as jnp\n",
    "import numpy.random as nprandom\n",
    "import matplotlib.pyplot as plt\n",
    "from amp import MSE, norm_sq_corr, PAL, hausdorff\n",
    "from amp.marginal_separable_jax import q, GAMP\n",
    "import amp.marginal_separable_jax\n",
    "import amp.changepoint_jax as changepoint_jax\n",
    "import amp.signal_configuration\n",
    "from amp.signal_priors import SignalPrior, SparseDiffSignal, SparseGaussianSignal, GaussianSignal\n",
    "\n",
    "p = 500\n",
    "σ = 0.01 # noise standard deviation\n",
    "L = 2 # num signals. L-1 changepoints\n",
    "\n",
    "T = 10 # num_iterations\n",
    "num_trials = 3\n",
    "δ_list = [0.5, 1.0, 1.5, 2.0, 2.5, 3.0]\n",
    "\n",
    "# seed = 29\n",
    "# nprandom.seed(2*seed)\n",
    "\n",
    "norm_sq_corr_1_lists = [[] for i in range(len(δ_list))]\n",
    "norm_sq_corr_2_lists = [[] for i in range(len(δ_list))]\n",
    "\n",
    "norm_sq_corr_1_avg_list = []\n",
    "norm_sq_corr_2_avg_list = []\n",
    "norm_sq_corr_1_std_list = []\n",
    "norm_sq_corr_2_std_list = []\n",
    "\n",
    "norm_sq_corr_1_SE_list = []\n",
    "norm_sq_corr_2_SE_list = []\n",
    "\n",
    "norm_sq_corr_1_SE_fixed_lists = [[] for i in range(len(δ_list))]\n",
    "norm_sq_corr_2_SE_fixed_lists = [[] for i in range(len(δ_list))]\n",
    "\n",
    "norm_sq_corr_1_SE_fixed_avg_list = []\n",
    "norm_sq_corr_2_SE_fixed_avg_list = []\n",
    "norm_sq_corr_1_SE_fixed_std_list = []\n",
    "norm_sq_corr_2_SE_fixed_std_list = []\n",
    "\n",
    "mse_1_list = []\n",
    "mse_2_list = []\n",
    "mse_1_SE_list = []\n",
    "mse_2_SE_list = []\n",
    "post_list = []\n",
    "true_post_list = []\n",
    "\n",
    "for i in range(len(δ_list)):\n",
    "    δ = δ_list[i]\n",
    "    print(\"--- δ: \", δ, \" ---\")\n",
    "\n",
    "    n = int(δ * p)\n",
    "    B̃_cov = np.eye(L)\n",
    "\n",
    "    # Gaussian Prior\n",
    "    # signal_prior = GaussianSignal(B̃_cov)\n",
    "\n",
    "    # Sparse Prior\n",
    "    α = 0.8 # sparsity parameter\n",
    "    σ_l_arr = np.array([1, 1]) # signal standard deviation\n",
    "    signal_prior = SparseGaussianSignal(α, δ, σ_l_arr)\n",
    "    B̃ = signal_prior.sample(p)\n",
    "\n",
    "    # Sparse Diff Prior\n",
    "    # ρ_1 = 1\n",
    "    # σ_w = 1.0 # The larger the σ_w, the more different the entries of the signal will be\n",
    "    # α = 1.0 # α = 1 means all signal entries are different\n",
    "    # B̃ = SparseDiffSignal(δ, ρ_1, σ_w, α).sample(p)\n",
    "\n",
    "    # Changepoint locations\n",
    "    Δ = lambda n: int(n/5)\n",
    "    C_s = amp.signal_configuration.generate_C_distanced(n, L, Δ = Δ(n))\n",
    "\n",
    "    true_chgpt_locations = lambda n: [int(n/3)]\n",
    "    ϕ = amp.signal_configuration.C_to_marginal(C_s) \n",
    "\n",
    "    ρ = 1/δ * B̃_cov # 1/δ * Covariance matrix of each row of B_0, independent for now but should be generalized later\n",
    "    # η = nprandom.normal(0.0, σ, (n, 1)) # noise\n",
    "\n",
    "    # Select where the true changepoint will be, as that will highly affect the result. \n",
    "    # C_full = np.triu(np.ones((n, n)), k=0).astype(int) # Here we are creating the matrix of all possible C's. This assumes that one changepoint happens forsure between 0≤t≤n-1. \n",
    "    # C_s = C_full[int(3*n/8):int(5*n/8)] # Ask the AMP to search over a continuum of possible changepoint locations \n",
    "    # C_s = C_full[np.array([int(n/2)])] # Ask the AMP to search over 3 possible changepoint locations\n",
    "    # C_true = C_s[1] # Select the true change point to lie in the middle\n",
    "    # C_true = C_full[np.array([int(n/2)])][0]\n",
    "\n",
    "    for trial_num in range(num_trials):\n",
    "\n",
    "        C_true = np.zeros((n, )).astype(int)\n",
    "        loc = 0\n",
    "        for i in range(len(true_chgpt_locations(n)) + 1):\n",
    "            if len(true_chgpt_locations(n)) == 0:\n",
    "                break\n",
    "            if i >= len(true_chgpt_locations(n)):\n",
    "                C_true[loc:] = i\n",
    "                break\n",
    "            C_true[loc:true_chgpt_locations(n)[i]] = i\n",
    "            loc = true_chgpt_locations(n)[i]\n",
    "\n",
    "        # Generate the observation vector Y\n",
    "        X = nprandom.normal(0, np.sqrt(1/n), (n, p))\n",
    "        Θ = X @ B̃\n",
    "        assert Θ.shape == (n, L)\n",
    "        Y = changepoint_jax.q(Θ, C_true, σ).sample()\n",
    "        assert Y.shape == (n, 1)\n",
    "\n",
    "        B̂, Θ_t, ν, ν̂ = GAMP(T, ϕ, σ, X, Y, signal_prior = signal_prior, verbose=False, seed=None)\n",
    "        κ_T = ν - ν.T @ np.linalg.inv(ρ) @ ν\n",
    "        ν_fixed, κ_T_fixed = amp.marginal_separable_jax.SE_fixed_C(C_true, signal_prior, δ, p, ϕ, L, σ, 2 * T, tqdm_disable = True)\n",
    "\n",
    "        # print(\"Calculating posterior...\")\n",
    "        # post = amp.posterior.compute_posterior(C_s, Θ_t, Y, n, jnp.array(ρ), σ, ν, κ_T)\n",
    "        # MAP_C = amp.posterior.MAP(C_s, post)\n",
    "        # MAP_chgpt_vec = amp.signal_configuration.C_to_chgpt(MAP_C)\n",
    "        # AMP_K̂ = MAP_chgpt_vec.shape[0]\n",
    "        # post_list.append(post)\n",
    "\n",
    "        norm_sq_corr_1_lists[i].append(norm_sq_corr(B̂[:, 0], B̃[:, 0]))\n",
    "        norm_sq_corr_2_lists[i].append(norm_sq_corr(B̂[:, 1], B̃[:, 1]))\n",
    "        norm_sq_corr_1_SE_fixed_lists[i].append(ν_fixed[0, 0]**2 / ( ρ[0, 0] * (κ_T_fixed + ν_fixed.T @ np.linalg.inv(ρ) @ ν_fixed)[0, 0])) # Technically shouldn't need to do this since f is always optimal in our case right? \n",
    "        norm_sq_corr_2_SE_fixed_lists[i].append(ν_fixed[1, 1]**2 / ( ρ[1, 1] * (κ_T_fixed + ν_fixed.T @ np.linalg.inv(ρ) @ ν_fixed)[1, 1]))\n",
    "\n",
    "    norm_sq_corr_1_SE_list.append(ν[0, 0] / ρ[0, 0])\n",
    "    norm_sq_corr_2_SE_list.append(ν[1, 1] / ρ[1, 1])\n",
    "    # mse_1_list.append(MSE(B̂[:, 0], B̃[:, 0]))\n",
    "    # mse_2_list.append(MSE(B̂[:, 1], B̃[:, 1]))\n",
    "    # mse_1_SE_list.append(δ * (ρ[0, 0] - ν[0, 0]))\n",
    "    # mse_2_SE_list.append(δ * (ρ[1, 1] - ν[1, 1]))\n",
    "\n",
    "    norm_sq_corr_1_avg_list.append(np.mean(norm_sq_corr_1_lists[i]))\n",
    "    norm_sq_corr_2_avg_list.append(np.mean(norm_sq_corr_2_lists[i]))\n",
    "    norm_sq_corr_1_std_list.append(np.std(norm_sq_corr_1_lists[i]))\n",
    "    norm_sq_corr_2_std_list.append(np.std(norm_sq_corr_2_lists[i]))\n",
    "\n",
    "    norm_sq_corr_1_SE_fixed_avg_list.append(np.mean(norm_sq_corr_1_SE_fixed_lists[i]))\n",
    "    norm_sq_corr_2_SE_fixed_avg_list.append(np.mean(norm_sq_corr_2_SE_fixed_lists[i]))\n",
    "    norm_sq_corr_1_SE_fixed_std_list.append(np.std(norm_sq_corr_1_SE_fixed_lists[i]))\n",
    "    norm_sq_corr_2_SE_fixed_std_list.append(np.std(norm_sq_corr_2_SE_fixed_lists[i]))\n",
    "\n",
    "\n",
    "# Sqcorr plots with error bars\n",
    "plt.errorbar(δ_list, norm_sq_corr_1_avg_list, yerr=norm_sq_corr_1_std_list, label=\"AMP 1\", marker=\"o\", ls=\"--\", c=PAL[0], alpha = 0.9)\n",
    "plt.errorbar(δ_list, norm_sq_corr_2_avg_list, yerr=norm_sq_corr_2_std_list, label=\"AMP 2\", marker=\"o\", ls=\"--\", c=PAL[2], alpha = 0.9)\n",
    "plt.errorbar(δ_list, norm_sq_corr_1_SE_fixed_avg_list, yerr=norm_sq_corr_1_SE_fixed_std_list, label=\"SE-C 1\", ls=\"-\", c=PAL[0], alpha = 0.9)\n",
    "plt.errorbar(δ_list, norm_sq_corr_2_SE_fixed_avg_list, yerr=norm_sq_corr_2_SE_fixed_std_list, label=\"SE-C 2\", ls=\"-\", c=PAL[2], alpha = 0.9)\n",
    "plt.plot(δ_list, norm_sq_corr_1_SE_list, label=\"SE 1\", ls=\"-.\", c=PAL[0], alpha = 0.2)\n",
    "plt.plot(δ_list, norm_sq_corr_2_SE_list, label=\"SE 2\", ls=\"-.\", c=PAL[2], alpha = 0.2)\n",
    "plt.xlabel(\"δ\")\n",
    "plt.ylabel(\"Norm Sq Corr\")\n",
    "plt.ylim(0, 1)\n",
    "plt.legend()\n",
    "plt.show()\n",
    "\n",
    "\n",
    "\n",
    "# # Sqcorr plots\n",
    "# plt.plot(δ_list, norm_sq_corr_1_list, label=\"AMP 1\", marker=\"o\", ls=\"--\", c=PAL[0])\n",
    "# plt.plot(δ_list, norm_sq_corr_2_list, label=\"AMP 2\", marker=\"o\", ls=\"--\", c=PAL[2])\n",
    "# plt.plot(δ_list, norm_sq_corr_1_SE_list, label=\"SE 1\", ls=\"-.\", c=PAL[0], alpha = 0.2)\n",
    "# plt.plot(δ_list, norm_sq_corr_2_SE_list, label=\"SE 2\", ls=\"-.\", c=PAL[2], alpha = 0.2)\n",
    "# plt.plot(δ_list, norm_sq_corr_1_SE_fixed_list, label=\"SE-C 1\", ls=\"-\", c=PAL[0])\n",
    "# plt.plot(δ_list, norm_sq_corr_2_SE_fixed_list, label=\"SE-C 2\", ls=\"-\", c=PAL[2])\n",
    "# plt.xlabel(\"δ\")\n",
    "# plt.ylabel(\"Norm Sq Corr\")\n",
    "# plt.ylim(0, 1)\n",
    "# plt.legend()\n",
    "# plt.show()\n",
    "\n",
    "# # MSE plots\n",
    "# plt.plot(δ_list, mse_1_list, label=\"MSE Signal 1\", marker=\"o\", ls=\"--\", c=PAL[0])\n",
    "# plt.plot(δ_list, mse_2_list, label=\"MSE Signal 2\", marker=\"o\", ls=\"--\", c=PAL[2])\n",
    "# plt.plot(δ_list, mse_1_SE_list, label=\"MSE SE Signal 1\", ls=\"-\", c=PAL[0])\n",
    "# plt.plot(δ_list, mse_2_SE_list, label=\"MSE SE Signal 2\", ls=\"-\", c=PAL[2])\n",
    "# plt.xlabel(\"δ\")\n",
    "# plt.ylabel(\"MSE\")\n",
    "# plt.ylim(0, 1)\n",
    "# plt.legend()\n",
    "# plt.show()\n"
   ]
  },
  {
   "cell_type": "code",
   "execution_count": 2,
   "id": "1bbba894",
   "metadata": {},
   "outputs": [
    {
     "data": {
      "image/png": "[encoded data removed]",
      "text/plain": [
       "<Figure size 640x480 with 1 Axes>"
      ]
     },
     "metadata": {},
     "output_type": "display_data"
    }
   ],
   "source": [
    "# Sqcorr plots with error bars\n",
    "# plt.errorbar(δ_list, norm_sq_corr_1_avg_list, yerr=norm_sq_corr_1_std_list, label=\"AMP 1\", marker=\"o\", ls=\"--\", c=PAL[0])\n",
    "# plt.errorbar(δ_list, norm_sq_corr_2_avg_list, yerr=norm_sq_corr_2_std_list, label=\"AMP 2\", marker=\"o\", ls=\"--\", c=PAL[2])\n",
    "plt.errorbar(δ_list, norm_sq_corr_1_SE_fixed_avg_list, yerr=norm_sq_corr_1_SE_fixed_std_list, label=\"SE-C 1\", ls=\"-\", c=PAL[0])\n",
    "plt.errorbar(δ_list, norm_sq_corr_2_SE_fixed_avg_list, yerr=norm_sq_corr_2_SE_fixed_std_list, label=\"SE-C 2\", ls=\"-\", c=PAL[2])\n",
    "plt.plot(δ_list, norm_sq_corr_1_SE_list, label=\"SE 1\", ls=\"-.\", c=PAL[0], alpha = 0.2)\n",
    "plt.plot(δ_list, norm_sq_corr_2_SE_list, label=\"SE 2\", ls=\"-.\", c=PAL[2], alpha = 0.2)\n",
    "plt.xlabel(\"δ\")\n",
    "plt.ylabel(\"Norm Sq Corr\")\n",
    "plt.ylim(0, 1)\n",
    "plt.legend()\n",
    "plt.show()"
   ]
  },
  {
   "cell_type": "code",
   "execution_count": 3,
   "id": "939577b8",
   "metadata": {},
   "outputs": [
    {
     "data": {
      "image/png": "[encoded data removed]",
      "text/plain": [
       "<Figure size 640x480 with 1 Axes>"
      ]
     },
     "metadata": {},
     "output_type": "display_data"
    }
   ],
   "source": [
    "PAL3 = ['#ffffcc','#c7e9b4','#7fcdbb','#41b6c4','#2c7fb8','#253494']\n",
    "# PAL3 = ['#0000ff', '#3300cc', '#660099', '#990066', '#cc0033', '#ff0000']\n",
    "n_s = [int(δ * p) for δ in δ_list]\n",
    "C_indx = np.arange(C_s.shape[0])\n",
    "indices = lambda n: np.arange(int(3*n/8), int(5*n/8), 1)\n",
    "idx = lambda n: np.linspace(0, 1, int(5*n/8)-int(3*n/8))\n",
    "# post_list\n",
    "prior = [1/C_s.shape[0] for i in range(C_s.shape[0])]\n",
    "# plt.bar(C_indx, prior, alpha=0.5, label=\"prior\")\n",
    "plt.bar(idx(n_s[0]), post_list[0].flatten(), width = 0.01, alpha=1, label=\"δ = 0.5, Θ_t\", color=PAL3[0])\n",
    "plt.bar(idx(n_s[1]), post_list[1].flatten(), width = 0.01, alpha=1, label=\"δ = 1.0, Θ_t\", color=PAL3[1])\n",
    "plt.bar(idx(n_s[2]).flatten(), post_list[2].flatten(), width = 0.01, alpha=1, label=\"δ = 1.5, Θ_t\", color=PAL3[2])\n",
    "plt.bar(idx(n_s[3]).flatten(), post_list[3].flatten(), width = 0.005, alpha=1, label=\"δ = 2.0, Θ_t\", color=PAL3[3])\n",
    "plt.bar(idx(n_s[4]).flatten(), post_list[4].flatten(), width = 0.005, alpha=1, label=\"δ = 2.5, Θ_t\", color=PAL3[4])\n",
    "plt.bar(idx(n_s[5]).flatten(), post_list[5].flatten(), width = 0.005, alpha=1, label=\"δ = 3.0, Θ_t\", color=PAL3[5])\n",
    "# draw a vertical line at the true change point\n",
    "plt.axvline(x=0.5, color='k', linestyle='--', alpha = 0.2)\n",
    "# plt.bar(C_indx, post_list[1], alpha=0.5, label=\"δ = 1.0\")\n",
    "plt.ylim(0, 1)\n",
    "plt.xlim(0.2, 0.8)\n",
    "plt.legend()\n",
    "plt.show()\n",
    "# plt.plot(post_list)"
   ]
  },
  {
   "attachments": {},
   "cell_type": "markdown",
   "id": "8f99100b",
   "metadata": {},
   "source": [
    "### Try out different ways of visualizing"
   ]
  },
  {
   "cell_type": "code",
   "execution_count": 50,
   "id": "5461094f",
   "metadata": {},
   "outputs": [
    {
     "name": "stderr",
     "output_type": "stream",
     "text": [
      "/var/folders/kh/5q2qjwdd4sz5cvjt10c51cgh0000gn/T/ipykernel_85413/2338435332.py:72: UserWarning: This figure includes Axes that are not compatible with tight_layout, so results might be incorrect.\n",
      "  plt.tight_layout()\n"
     ]
    },
    {
     "data": {
      "image/png": "[encoded data removed]",
      "text/plain": [
       "<Figure size 1600x900 with 6 Axes>"
      ]
     },
     "metadata": {},
     "output_type": "display_data"
    }
   ],
   "source": [
    "### Ridgeplot\n",
    "import matplotlib as mpl\n",
    "import matplotlib.pyplot as plt\n",
    "import matplotlib.gridspec as grid_spec\n",
    "# from sklearn.neighbors import KernelDensity\n",
    "\n",
    "# countries = [x for x in np.unique(data.country)]\n",
    "colors = ['#0000ff', '#3300cc', '#660099', '#990066', '#cc0033', '#ff0000']\n",
    "\n",
    "gs = grid_spec.GridSpec(len(post_list),1)\n",
    "fig = plt.figure(figsize=(16,9))\n",
    "\n",
    "n_s = [int(δ * p) for δ in δ_list]\n",
    "C_indx = np.arange(C_s.shape[0])\n",
    "indices = lambda n: np.arange(int(3*n/8), int(5*n/8), 1)\n",
    "idx = lambda n: np.linspace(0, 1, int(5*n/8)-int(3*n/8))\n",
    "PAL3 = ['#ffffcc','#c7e9b4','#7fcdbb','#41b6c4','#2c7fb8','#253494']\n",
    "\n",
    "i = 0\n",
    "\n",
    "ax_objs = []\n",
    "for j in range(len(post_list)):\n",
    "    # country = countries[i]\n",
    "    # x = \n",
    "    x_d = idx(n_s[j])\n",
    "\n",
    "    # kde = KernelDensity(bandwidth=0.03, kernel='gaussian')\n",
    "    # kde.fit(x[:, None])\n",
    "\n",
    "    # logprob = kde.score_samples(x_d[:, None])\n",
    "\n",
    "    # creating new axes object\n",
    "    ax_objs.append(fig.add_subplot(gs[i:i+1, 0:]))\n",
    "\n",
    "    # plotting the distribution\n",
    "    # ax_objs[-1].plot(x_d, np.exp(logprob),color=\"#f0f0f0\",lw=1)\n",
    "    # ax_objs[-1].fill_between(x_d, np.exp(logprob), alpha=1,color=colors[i])\n",
    "    ax_objs[-1].bar(x_d, post_list[j].flatten(), width = 0.01, alpha=0.8, label=\"δ = 1.0, Θ_t\", color=colors[j])\n",
    "    ax_objs[-1].axvline(x=0.5, color='k', linestyle='--', alpha = 0.2)\n",
    "\n",
    "    # setting uniform x and y lims\n",
    "    ax_objs[-1].set_xlim(0,1)\n",
    "    ax_objs[-1].set_ylim(0,2.5)\n",
    "\n",
    "    # make background transparent\n",
    "    rect = ax_objs[-1].patch\n",
    "    rect.set_alpha(0)\n",
    "\n",
    "    # remove borders, axis ticks, and labels\n",
    "    ax_objs[-1].set_yticklabels([])\n",
    "\n",
    "    if i == len(post_list)-1:\n",
    "        ax_objs[-1].set_xlabel(\"Test Score\", fontsize=16,fontweight=\"bold\")\n",
    "    else:\n",
    "        ax_objs[-1].set_xticklabels([])\n",
    "\n",
    "    spines = [\"top\",\"right\",\"left\",\"bottom\"]\n",
    "    for s in spines:\n",
    "        ax_objs[-1].spines[s].set_visible(False)\n",
    "\n",
    "    # adj_country = country.replace(\" \",\"\\n\")\n",
    "    adj_country = \"δ = \" + str(δ_list[j])\n",
    "    ax_objs[-1].text(-0.02,0,adj_country,fontweight=\"bold\",fontsize=10,ha=\"right\")\n",
    "\n",
    "\n",
    "    i += 1\n",
    "\n",
    "gs.update(hspace=-0.7)\n",
    "\n",
    "fig.text(0.07,0.85,\"Posterior over changepoint\",fontsize=20)\n",
    "\n",
    "plt.tight_layout()\n",
    "plt.show()"
   ]
  },
  {
   "cell_type": "code",
   "execution_count": 26,
   "id": "fe0cd696",
   "metadata": {},
   "outputs": [
    {
     "name": "stderr",
     "output_type": "stream",
     "text": [
      "/var/folders/kh/5q2qjwdd4sz5cvjt10c51cgh0000gn/T/ipykernel_9653/3413773890.py:62: UserWarning: This figure includes Axes that are not compatible with tight_layout, so results might be incorrect.\n",
      "  plt.tight_layout()\n"
     ]
    },
    {
     "data": {
      "image/png": "[encoded data removed]",
      "text/plain": [
       "<Figure size 1600x900 with 2 Axes>"
      ]
     },
     "metadata": {},
     "output_type": "display_data"
    }
   ],
   "source": [
    "### Ridgeline plot\n",
    "import numpy as np\n",
    "\n",
    "import matplotlib as mpl\n",
    "import matplotlib.pyplot as plt\n",
    "import matplotlib.gridspec as grid_spec\n",
    "\n",
    "countries = [str(j) for j in range(0, len(δ_list))]\n",
    "colors = ['#0000ff', '#3300cc', '#660099', '#990066', '#cc0033', '#ff0000']\n",
    "\n",
    "gs = grid_spec.GridSpec(len(countries),1)\n",
    "fig = plt.figure(figsize=(16,9))\n",
    "\n",
    "i = 0\n",
    "\n",
    "ax_objs = []\n",
    "for country in countries:\n",
    "    country = countries[i]\n",
    "    x_d = C_indx\n",
    "\n",
    "    prob = post_list[int(country)]\n",
    "\n",
    "    # creating new axes object\n",
    "    ax_objs.append(fig.add_subplot(gs[i:i+1, 0:]))\n",
    "\n",
    "    # plotting the distribution\n",
    "    ax_objs[-1].bar(x_d, prob,color=colors[i], alpha = 0.5)\n",
    "    # ax_objs[-1].fill_between(x_d, prob, alpha=1,color=colors[i])\n",
    "\n",
    "\n",
    "    # setting uniform x and y lims\n",
    "    ax_objs[-1].set_xlim(0,C_indx[-1])\n",
    "    ax_objs[-1].set_ylim(0,2.5)\n",
    "\n",
    "    # make background transparent\n",
    "    rect = ax_objs[-1].patch\n",
    "    rect.set_alpha(0)\n",
    "\n",
    "    # remove borders, axis ticks, and labels\n",
    "    ax_objs[-1].set_yticklabels([])\n",
    "\n",
    "    if i == len(countries)-1:\n",
    "        ax_objs[-1].set_xlabel(\"Test Score\", fontsize=16,fontweight=\"bold\")\n",
    "    else:\n",
    "        ax_objs[-1].set_xticklabels([])\n",
    "\n",
    "    spines = [\"top\",\"right\",\"left\",\"bottom\"]\n",
    "    for s in spines:\n",
    "        ax_objs[-1].spines[s].set_visible(False)\n",
    "\n",
    "    adj_country = country.replace(\" \",\"\\n\")\n",
    "    ax_objs[-1].text(-0.02,0,adj_country,fontweight=\"bold\",fontsize=14,ha=\"right\")\n",
    "\n",
    "\n",
    "    i += 1\n",
    "\n",
    "gs.update(hspace=-0.7)\n",
    "\n",
    "fig.text(0.07,0.85,\"Posterior\",fontsize=20)\n",
    "\n",
    "plt.tight_layout()\n",
    "plt.show()"
   ]
  },
  {
   "cell_type": "markdown",
   "metadata": {},
   "source": [
    "# Check posterior coverage match with state evolution"
   ]
  },
  {
   "cell_type": "markdown",
   "id": "e45bdeda",
   "metadata": {},
   "source": [
    "### First, check that AMP and SE match on SqCorr"
   ]
  },
  {
   "cell_type": "code",
   "execution_count": 1,
   "id": "421a9a74",
   "metadata": {},
   "outputs": [
    {
     "name": "stderr",
     "output_type": "stream",
     "text": [
      "  0%|          | 0/7 [00:00<?, ?it/s]"
     ]
    },
    {
     "name": "stdout",
     "output_type": "stream",
     "text": [
      "--- δ:  0.5  ---\n",
      "num_trials:  10\n"
     ]
    },
    {
     "name": "stderr",
     "output_type": "stream",
     "text": [
      "100%|██████████| 10/10 [00:22<00:00,  2.24s/it]\n",
      " 14%|█▍        | 1/7 [00:22<02:14, 22.44s/it]"
     ]
    },
    {
     "name": "stdout",
     "output_type": "stream",
     "text": [
      "--- δ:  1.0  ---\n",
      "num_trials:  10\n"
     ]
    },
    {
     "name": "stderr",
     "output_type": "stream",
     "text": [
      "100%|██████████| 10/10 [00:29<00:00,  2.91s/it]\n",
      " 29%|██▊       | 2/7 [00:51<02:11, 26.36s/it]"
     ]
    },
    {
     "name": "stdout",
     "output_type": "stream",
     "text": [
      "--- δ:  1.5  ---\n",
      "num_trials:  10\n"
     ]
    },
    {
     "name": "stderr",
     "output_type": "stream",
     "text": [
      "100%|██████████| 10/10 [00:35<00:00,  3.51s/it]\n",
      " 43%|████▎     | 3/7 [01:26<02:01, 30.38s/it]"
     ]
    },
    {
     "name": "stdout",
     "output_type": "stream",
     "text": [
      "--- δ:  2.0  ---\n",
      "num_trials:  10\n"
     ]
    },
    {
     "name": "stderr",
     "output_type": "stream",
     "text": [
      "100%|██████████| 10/10 [00:38<00:00,  3.81s/it]\n",
      " 57%|█████▋    | 4/7 [02:04<01:40, 33.44s/it]"
     ]
    },
    {
     "name": "stdout",
     "output_type": "stream",
     "text": [
      "--- δ:  2.5  ---\n",
      "num_trials:  10\n"
     ]
    },
    {
     "name": "stderr",
     "output_type": "stream",
     "text": [
      "100%|██████████| 10/10 [00:40<00:00,  4.03s/it]\n",
      " 71%|███████▏  | 5/7 [02:45<01:11, 35.91s/it]"
     ]
    },
    {
     "name": "stdout",
     "output_type": "stream",
     "text": [
      "--- δ:  3.0  ---\n",
      "num_trials:  10\n"
     ]
    },
    {
     "name": "stderr",
     "output_type": "stream",
     "text": [
      "100%|██████████| 10/10 [00:43<00:00,  4.37s/it]\n",
      " 86%|████████▌ | 6/7 [03:28<00:38, 38.57s/it]"
     ]
    },
    {
     "name": "stdout",
     "output_type": "stream",
     "text": [
      "--- δ:  3.5  ---\n",
      "num_trials:  10\n"
     ]
    },
    {
     "name": "stderr",
     "output_type": "stream",
     "text": [
      "100%|██████████| 10/10 [00:47<00:00,  4.75s/it]\n",
      "100%|██████████| 7/7 [04:16<00:00, 36.62s/it]\n"
     ]
    },
    {
     "data": {
      "image/png": "[encoded data removed]",
      "text/plain": [
       "<Figure size 640x480 with 1 Axes>"
      ]
     },
     "metadata": {},
     "output_type": "display_data"
    }
   ],
   "source": [
    "import jax\n",
    "import jax.numpy as np\n",
    "import numpy\n",
    "import numpy.random as nprandom\n",
    "import tqdm\n",
    "from functools import partial\n",
    "from tqdm import tqdm\n",
    "tqdm = partial(tqdm, position=0, leave=True)\n",
    "import matplotlib.pyplot as plt\n",
    "import random\n",
    "from amp import MSE, norm_sq_corr, PAL\n",
    "from amp.marginal_separable_jax import q, GAMP_gaussian_clean\n",
    "import amp.changepoint_jax as chgpt_jax\n",
    "# import amp.separable_jax\n",
    "import amp.signal_configuration\n",
    "\n",
    "p = 500\n",
    "σ = 0.2 # noise standard deviation\n",
    "# ϕ = jnp.array([0.2, 0.3, 0.5]) \n",
    "# Signal prior now as a vector (entries should sum to 1)\n",
    "L = 2\n",
    "\n",
    "T = 10 # num_iterations\n",
    "\n",
    "norm_sq_corr_1_list = []\n",
    "norm_sq_corr_2_list = []\n",
    "norm_sq_corr_1_SE_list = []\n",
    "norm_sq_corr_2_SE_list = []\n",
    "std_norm_sq_corr_1_list = []\n",
    "std_norm_sq_corr_2_list = []\n",
    "std_norm_sq_corr_1_SE_list = []\n",
    "std_norm_sq_corr_2_SE_list = []\n",
    "\n",
    "δ_list = [0.5, 1.0, 1.5, 2.0, 2.5, 3.0, 3.5]\n",
    "# δ_list = [0.5, 1.0, 1.5, 2.0]\n",
    "for δ in tqdm(δ_list):\n",
    "    print(\"--- δ: \", δ, \" ---\")\n",
    "\n",
    "    trial_norm_sq_corr_1_list = []\n",
    "    trial_norm_sq_corr_2_list = []\n",
    "    trial_norm_sq_corr_1_SE_list = []\n",
    "    trial_norm_sq_corr_2_SE_list = []\n",
    "\n",
    "    n = int(δ * p)\n",
    "    # num_trials = int(n / 20)\n",
    "    num_trials = 10\n",
    "    # num_trials = 20\n",
    "    print(\"num_trials: \", num_trials)\n",
    "\n",
    "\n",
    "    # def run_trial(trial_num):\n",
    "    for trial_num in tqdm(range(num_trials)): \n",
    "\n",
    "        B̃_cov = np.eye(L)\n",
    "        B̃ = nprandom.multivariate_normal(np.zeros(L), B̃_cov, size=p)\n",
    "        B̂_0 = nprandom.multivariate_normal(np.zeros(L), B̃_cov, size=p)\n",
    "\n",
    "        ϕ = np.zeros((L, n))\n",
    "        # Changepoint highly concentrated\n",
    "        ξ = int(n/2) # number of middle indices to concentrate the changepoint probability\n",
    "        ξ_start = int((n - ξ)/2)\n",
    "        ξ_end = int((n + ξ)/2)\n",
    "        ϕ = ϕ.at[0, :ξ_start].set(np.ones(ξ_start))\n",
    "        ϕ = ϕ.at[1, :ξ_start].set(np.zeros(ξ_start))\n",
    "        ϕ = ϕ.at[0, ξ_start:ξ_end].set(np.arange(int(ξ)-1, -1, -1) / int(ξ))\n",
    "        # ϕ = ϕ.at[0, ξ_end].set((0 + ϵ) / n) # Numerically stabilize the zero entries in the marginals ϕ\n",
    "        ϕ = ϕ.at[1, ξ_start:ξ_end].set(np.arange(1, int(ξ) + 1, 1) / int(ξ))\n",
    "        # ϕ = ϕ.at[1, ξ_end].set((n - ϵ) / n) # Numerically stabilize the zero entries in the marginals ϕ\n",
    "        ϕ = ϕ.at[0, ξ_end:].set(np.zeros(int(n - ξ_end)))\n",
    "        ϕ = ϕ.at[1, ξ_end:].set(np.ones(int(n - ξ_end)))\n",
    "\n",
    "        # Mixed Unbalanced ϕ\n",
    "        # ϕ = ϕ.at[0, :].set(0.7 * np.ones(n)) # Marginal probability of a changepoint happening at each index i <= n\n",
    "        # ϕ = ϕ.at[1, :].set(0.3 * np.ones(n))\n",
    "\n",
    "        # All possible allowed changepoint locations\n",
    "        C_full = np.triu(np.ones((n, n)), k=0).astype(int) # Here we are creating the matrix of all possible C's. This assumes that one changepoint happens forsure between 0≤t≤n-1. \n",
    "        chgpt_true_location = np.array([random.randint(int( (n - ξ) / 2), int( (n + ξ) / 2))])\n",
    "        C_s = C_full[int( (n - ξ) / 2) : int( (n + ξ) / 2)]\n",
    "        C_true = C_full[chgpt_true_location][0] # Ask the AMP to search over 3 possible changepoint locations\n",
    "\n",
    "        ϕ_from_C = amp.signal_configuration.C_to_marginal(C_s)\n",
    "\n",
    "        assert np.allclose(ϕ_from_C, ϕ) # Testing whether the ϕ is constructed correctly. \n",
    "\n",
    "        ρ = 1/δ * B̃_cov # 1/δ * Covariance matrix of each row of B_0, independent for now but should be generalized later\n",
    "        Y = np.zeros((n, 1))\n",
    "        X = nprandom.normal(0, np.sqrt(1/n), (n, p))\n",
    "\n",
    "        # Generate the observation vector Y\n",
    "        Θ = X @ B̃\n",
    "        assert Θ.shape == (n, L)\n",
    "        Y = chgpt_jax.q(Θ, C_true, σ).sample()\n",
    "        # Y = amp.separable_jax.q(Θ, ϕ[:, 0].flatten(), σ).sample()\n",
    "\n",
    "        B̂, Θ_t, ν, ν̂ = GAMP_gaussian_clean(B̂_0, δ, p, ϕ, L, σ, X, Y, ρ, T, verbose=False, seed=None, tqdm_disable = True)\n",
    "\n",
    "        # return numpy.array([norm_sq_corr(B̂[:, 0], B̃[:, 0]), norm_sq_corr(B̂[:, 1], B̃[:, 1]), (ν[0, 0] / ρ[0, 0]), (ν[1, 1] / ρ[1, 1])])\n",
    "\n",
    "        trial_norm_sq_corr_1_list.append(norm_sq_corr(B̂[:, 0], B̃[:, 0]))\n",
    "        trial_norm_sq_corr_2_list.append(norm_sq_corr(B̂[:, 1], B̃[:, 1]))\n",
    "        trial_norm_sq_corr_1_SE_list.append(ν[0, 0] / ρ[0, 0])\n",
    "        trial_norm_sq_corr_2_SE_list.append(ν[1, 1] / ρ[1, 1])\n",
    "\n",
    "    # res = numpy.apply_along_axis(run_trial, 0, numpy.ones((num_trials, 1))) # Gives me nan, or divide by zero errors for some reason\n",
    "    # print(\"res: \", res)\n",
    "\n",
    "    norm_sq_corr_1_list.append(np.mean(np.array(trial_norm_sq_corr_1_list)))\n",
    "    norm_sq_corr_2_list.append(np.mean(np.array(trial_norm_sq_corr_2_list)))\n",
    "    norm_sq_corr_1_SE_list.append(np.mean(np.array(trial_norm_sq_corr_1_SE_list)))\n",
    "    norm_sq_corr_2_SE_list.append(np.mean(np.array(trial_norm_sq_corr_2_SE_list)))\n",
    "\n",
    "    std_norm_sq_corr_1_list.append(np.std(np.array(trial_norm_sq_corr_1_list)))\n",
    "    std_norm_sq_corr_2_list.append(np.std(np.array(trial_norm_sq_corr_2_list)))\n",
    "    std_norm_sq_corr_1_SE_list.append(np.std(np.array(trial_norm_sq_corr_1_SE_list)))\n",
    "    std_norm_sq_corr_2_SE_list.append(np.std(np.array(trial_norm_sq_corr_2_SE_list)))\n",
    "\n",
    "# Sqcorr plots\n",
    "plt.errorbar(δ_list, norm_sq_corr_1_list, yerr = std_norm_sq_corr_1_list, label=\"AMP β¹\", marker=\"o\", ls=\"--\", c=PAL[0])\n",
    "plt.errorbar(δ_list, norm_sq_corr_2_list, yerr = std_norm_sq_corr_2_list,  label=\"AMP β²\", marker=\"o\", ls=\"--\", c=PAL[2])\n",
    "plt.plot(δ_list, norm_sq_corr_1_SE_list, ls=\"-\", alpha = 0.8, c=PAL[0])\n",
    "plt.plot(δ_list, norm_sq_corr_2_SE_list, ls=\"-\", alpha = 0.8, c=PAL[2])\n",
    "plt.xlabel(\"δ\")\n",
    "plt.ylabel(\"Norm Sq Corr\")\n",
    "plt.legend()\n",
    "plt.show()"
   ]
  },
  {
   "cell_type": "code",
   "execution_count": 1,
   "metadata": {},
   "outputs": [
    {
     "name": "stderr",
     "output_type": "stream",
     "text": [
      "  0%|          | 0/4 [00:00<?, ?it/s]"
     ]
    },
    {
     "name": "stdout",
     "output_type": "stream",
     "text": [
      "--- δ:  0.5  ---\n"
     ]
    },
    {
     "name": "stderr",
     "output_type": "stream",
     "text": [
      "  0%|          | 0/15 [00:00<?, ?it/s]"
     ]
    },
    {
     "name": "stdout",
     "output_type": "stream",
     "text": [
      "Calculating posterior...\n"
     ]
    },
    {
     "name": "stderr",
     "output_type": "stream",
     "text": [
      "  7%|▋         | 1/15 [00:05<01:22,  5.87s/it]"
     ]
    },
    {
     "name": "stdout",
     "output_type": "stream",
     "text": [
      "Calculating posterior...\n"
     ]
    },
    {
     "name": "stderr",
     "output_type": "stream",
     "text": [
      " 13%|█▎        | 2/15 [00:08<00:52,  4.03s/it]"
     ]
    },
    {
     "name": "stdout",
     "output_type": "stream",
     "text": [
      "Calculating posterior...\n"
     ]
    },
    {
     "name": "stderr",
     "output_type": "stream",
     "text": [
      " 20%|██        | 3/15 [00:11<00:40,  3.37s/it]"
     ]
    },
    {
     "name": "stdout",
     "output_type": "stream",
     "text": [
      "Calculating posterior...\n"
     ]
    },
    {
     "name": "stderr",
     "output_type": "stream",
     "text": [
      " 27%|██▋       | 4/15 [00:13<00:34,  3.14s/it]"
     ]
    },
    {
     "name": "stdout",
     "output_type": "stream",
     "text": [
      "Calculating posterior...\n"
     ]
    },
    {
     "name": "stderr",
     "output_type": "stream",
     "text": [
      " 33%|███▎      | 5/15 [00:16<00:30,  3.06s/it]"
     ]
    },
    {
     "name": "stdout",
     "output_type": "stream",
     "text": [
      "Calculating posterior...\n"
     ]
    },
    {
     "name": "stderr",
     "output_type": "stream",
     "text": [
      " 40%|████      | 6/15 [00:19<00:26,  2.90s/it]"
     ]
    },
    {
     "name": "stdout",
     "output_type": "stream",
     "text": [
      "Calculating posterior...\n"
     ]
    },
    {
     "name": "stderr",
     "output_type": "stream",
     "text": [
      " 47%|████▋     | 7/15 [00:22<00:22,  2.80s/it]"
     ]
    },
    {
     "name": "stdout",
     "output_type": "stream",
     "text": [
      "Calculating posterior...\n"
     ]
    },
    {
     "name": "stderr",
     "output_type": "stream",
     "text": [
      " 53%|█████▎    | 8/15 [00:24<00:19,  2.72s/it]"
     ]
    },
    {
     "name": "stdout",
     "output_type": "stream",
     "text": [
      "Calculating posterior...\n"
     ]
    },
    {
     "name": "stderr",
     "output_type": "stream",
     "text": [
      " 60%|██████    | 9/15 [00:27<00:16,  2.77s/it]"
     ]
    },
    {
     "name": "stdout",
     "output_type": "stream",
     "text": [
      "Calculating posterior...\n"
     ]
    },
    {
     "name": "stderr",
     "output_type": "stream",
     "text": [
      " 67%|██████▋   | 10/15 [00:30<00:14,  2.82s/it]"
     ]
    },
    {
     "name": "stdout",
     "output_type": "stream",
     "text": [
      "Calculating posterior...\n"
     ]
    },
    {
     "name": "stderr",
     "output_type": "stream",
     "text": [
      " 73%|███████▎  | 11/15 [00:33<00:11,  2.77s/it]"
     ]
    },
    {
     "name": "stdout",
     "output_type": "stream",
     "text": [
      "Calculating posterior...\n"
     ]
    },
    {
     "name": "stderr",
     "output_type": "stream",
     "text": [
      " 80%|████████  | 12/15 [00:35<00:08,  2.76s/it]"
     ]
    },
    {
     "name": "stdout",
     "output_type": "stream",
     "text": [
      "Calculating posterior...\n"
     ]
    },
    {
     "name": "stderr",
     "output_type": "stream",
     "text": [
      " 87%|████████▋ | 13/15 [00:38<00:05,  2.76s/it]"
     ]
    },
    {
     "name": "stdout",
     "output_type": "stream",
     "text": [
      "Calculating posterior...\n"
     ]
    },
    {
     "name": "stderr",
     "output_type": "stream",
     "text": [
      " 93%|█████████▎| 14/15 [00:41<00:02,  2.68s/it]"
     ]
    },
    {
     "name": "stdout",
     "output_type": "stream",
     "text": [
      "Calculating posterior...\n"
     ]
    },
    {
     "name": "stderr",
     "output_type": "stream",
     "text": [
      "100%|██████████| 15/15 [00:43<00:00,  2.92s/it]\n",
      " 25%|██▌       | 1/4 [00:44<02:12, 44.04s/it]"
     ]
    },
    {
     "name": "stdout",
     "output_type": "stream",
     "text": [
      "--- δ:  1.0  ---\n"
     ]
    },
    {
     "name": "stderr",
     "output_type": "stream",
     "text": [
      "  0%|          | 0/15 [00:00<?, ?it/s]"
     ]
    },
    {
     "name": "stdout",
     "output_type": "stream",
     "text": [
      "Calculating posterior...\n"
     ]
    },
    {
     "name": "stderr",
     "output_type": "stream",
     "text": [
      "  7%|▋         | 1/15 [00:06<01:26,  6.20s/it]"
     ]
    },
    {
     "name": "stdout",
     "output_type": "stream",
     "text": [
      "Calculating posterior...\n"
     ]
    },
    {
     "name": "stderr",
     "output_type": "stream",
     "text": [
      " 13%|█▎        | 2/15 [00:09<00:57,  4.46s/it]"
     ]
    },
    {
     "name": "stdout",
     "output_type": "stream",
     "text": [
      "Calculating posterior...\n"
     ]
    },
    {
     "name": "stderr",
     "output_type": "stream",
     "text": [
      " 20%|██        | 3/15 [00:12<00:47,  3.94s/it]"
     ]
    },
    {
     "name": "stdout",
     "output_type": "stream",
     "text": [
      "Calculating posterior...\n"
     ]
    },
    {
     "name": "stderr",
     "output_type": "stream",
     "text": [
      " 27%|██▋       | 4/15 [00:16<00:40,  3.68s/it]"
     ]
    },
    {
     "name": "stdout",
     "output_type": "stream",
     "text": [
      "Calculating posterior...\n"
     ]
    },
    {
     "name": "stderr",
     "output_type": "stream",
     "text": [
      " 33%|███▎      | 5/15 [00:19<00:35,  3.60s/it]"
     ]
    },
    {
     "name": "stdout",
     "output_type": "stream",
     "text": [
      "Calculating posterior...\n"
     ]
    },
    {
     "name": "stderr",
     "output_type": "stream",
     "text": [
      " 40%|████      | 6/15 [00:22<00:31,  3.47s/it]"
     ]
    },
    {
     "name": "stdout",
     "output_type": "stream",
     "text": [
      "Calculating posterior...\n"
     ]
    },
    {
     "name": "stderr",
     "output_type": "stream",
     "text": [
      " 47%|████▋     | 7/15 [00:26<00:27,  3.45s/it]"
     ]
    },
    {
     "name": "stdout",
     "output_type": "stream",
     "text": [
      "Calculating posterior...\n"
     ]
    },
    {
     "name": "stderr",
     "output_type": "stream",
     "text": [
      " 53%|█████▎    | 8/15 [00:29<00:23,  3.43s/it]"
     ]
    },
    {
     "name": "stdout",
     "output_type": "stream",
     "text": [
      "Calculating posterior...\n"
     ]
    },
    {
     "name": "stderr",
     "output_type": "stream",
     "text": [
      " 60%|██████    | 9/15 [00:32<00:20,  3.41s/it]"
     ]
    },
    {
     "name": "stdout",
     "output_type": "stream",
     "text": [
      "Calculating posterior...\n"
     ]
    },
    {
     "name": "stderr",
     "output_type": "stream",
     "text": [
      " 67%|██████▋   | 10/15 [00:36<00:17,  3.46s/it]"
     ]
    },
    {
     "name": "stdout",
     "output_type": "stream",
     "text": [
      "Calculating posterior...\n"
     ]
    },
    {
     "name": "stderr",
     "output_type": "stream",
     "text": [
      " 73%|███████▎  | 11/15 [00:39<00:13,  3.40s/it]"
     ]
    },
    {
     "name": "stdout",
     "output_type": "stream",
     "text": [
      "Calculating posterior...\n"
     ]
    },
    {
     "name": "stderr",
     "output_type": "stream",
     "text": [
      " 80%|████████  | 12/15 [00:43<00:10,  3.41s/it]"
     ]
    },
    {
     "name": "stdout",
     "output_type": "stream",
     "text": [
      "Calculating posterior...\n"
     ]
    },
    {
     "name": "stderr",
     "output_type": "stream",
     "text": [
      " 87%|████████▋ | 13/15 [00:46<00:06,  3.37s/it]"
     ]
    },
    {
     "name": "stdout",
     "output_type": "stream",
     "text": [
      "Calculating posterior...\n"
     ]
    },
    {
     "name": "stderr",
     "output_type": "stream",
     "text": [
      " 93%|█████████▎| 14/15 [00:49<00:03,  3.36s/it]"
     ]
    },
    {
     "name": "stdout",
     "output_type": "stream",
     "text": [
      "Calculating posterior...\n"
     ]
    },
    {
     "name": "stderr",
     "output_type": "stream",
     "text": [
      "100%|██████████| 15/15 [00:53<00:00,  3.54s/it]\n",
      " 50%|█████     | 2/4 [01:37<01:38, 49.48s/it]"
     ]
    },
    {
     "name": "stdout",
     "output_type": "stream",
     "text": [
      "--- δ:  1.5  ---\n"
     ]
    },
    {
     "name": "stderr",
     "output_type": "stream",
     "text": [
      "  0%|          | 0/15 [00:00<?, ?it/s]"
     ]
    },
    {
     "name": "stdout",
     "output_type": "stream",
     "text": [
      "Calculating posterior...\n"
     ]
    },
    {
     "name": "stderr",
     "output_type": "stream",
     "text": [
      "  7%|▋         | 1/15 [00:06<01:35,  6.79s/it]"
     ]
    },
    {
     "name": "stdout",
     "output_type": "stream",
     "text": [
      "Calculating posterior...\n"
     ]
    },
    {
     "name": "stderr",
     "output_type": "stream",
     "text": [
      " 13%|█▎        | 2/15 [00:11<01:10,  5.43s/it]"
     ]
    },
    {
     "name": "stdout",
     "output_type": "stream",
     "text": [
      "Credible Set Error \n",
      "Calculating posterior...\n"
     ]
    },
    {
     "name": "stderr",
     "output_type": "stream",
     "text": [
      " 20%|██        | 3/15 [00:15<01:00,  5.08s/it]"
     ]
    },
    {
     "name": "stdout",
     "output_type": "stream",
     "text": [
      "Calculating posterior...\n"
     ]
    },
    {
     "name": "stderr",
     "output_type": "stream",
     "text": [
      " 27%|██▋       | 4/15 [00:20<00:53,  4.84s/it]"
     ]
    },
    {
     "name": "stdout",
     "output_type": "stream",
     "text": [
      "Calculating posterior...\n"
     ]
    },
    {
     "name": "stderr",
     "output_type": "stream",
     "text": [
      " 33%|███▎      | 5/15 [00:24<00:46,  4.67s/it]"
     ]
    },
    {
     "name": "stdout",
     "output_type": "stream",
     "text": [
      "Calculating posterior...\n"
     ]
    },
    {
     "name": "stderr",
     "output_type": "stream",
     "text": [
      " 40%|████      | 6/15 [00:29<00:41,  4.57s/it]"
     ]
    },
    {
     "name": "stdout",
     "output_type": "stream",
     "text": [
      "Calculating posterior...\n"
     ]
    },
    {
     "name": "stderr",
     "output_type": "stream",
     "text": [
      " 47%|████▋     | 7/15 [00:33<00:36,  4.50s/it]"
     ]
    },
    {
     "name": "stdout",
     "output_type": "stream",
     "text": [
      "Calculating posterior...\n"
     ]
    },
    {
     "name": "stderr",
     "output_type": "stream",
     "text": [
      " 53%|█████▎    | 8/15 [00:37<00:31,  4.48s/it]"
     ]
    },
    {
     "name": "stdout",
     "output_type": "stream",
     "text": [
      "Calculating posterior...\n"
     ]
    },
    {
     "name": "stderr",
     "output_type": "stream",
     "text": [
      " 60%|██████    | 9/15 [00:42<00:27,  4.51s/it]"
     ]
    },
    {
     "name": "stdout",
     "output_type": "stream",
     "text": [
      "Calculating posterior...\n"
     ]
    },
    {
     "name": "stderr",
     "output_type": "stream",
     "text": [
      " 67%|██████▋   | 10/15 [00:46<00:22,  4.42s/it]"
     ]
    },
    {
     "name": "stdout",
     "output_type": "stream",
     "text": [
      "Calculating posterior...\n"
     ]
    },
    {
     "name": "stderr",
     "output_type": "stream",
     "text": [
      " 73%|███████▎  | 11/15 [00:50<00:17,  4.35s/it]"
     ]
    },
    {
     "name": "stdout",
     "output_type": "stream",
     "text": [
      "Calculating posterior...\n"
     ]
    },
    {
     "name": "stderr",
     "output_type": "stream",
     "text": [
      " 80%|████████  | 12/15 [00:55<00:12,  4.32s/it]"
     ]
    },
    {
     "name": "stdout",
     "output_type": "stream",
     "text": [
      "Calculating posterior...\n"
     ]
    },
    {
     "name": "stderr",
     "output_type": "stream",
     "text": [
      " 87%|████████▋ | 13/15 [00:59<00:08,  4.30s/it]"
     ]
    },
    {
     "name": "stdout",
     "output_type": "stream",
     "text": [
      "Calculating posterior...\n"
     ]
    },
    {
     "name": "stderr",
     "output_type": "stream",
     "text": [
      " 93%|█████████▎| 14/15 [01:03<00:04,  4.34s/it]"
     ]
    },
    {
     "name": "stdout",
     "output_type": "stream",
     "text": [
      "Calculating posterior...\n"
     ]
    },
    {
     "name": "stderr",
     "output_type": "stream",
     "text": [
      "100%|██████████| 15/15 [01:08<00:00,  4.54s/it]\n",
      " 75%|███████▌  | 3/4 [02:45<00:58, 58.10s/it]"
     ]
    },
    {
     "name": "stdout",
     "output_type": "stream",
     "text": [
      "--- δ:  2.0  ---\n"
     ]
    },
    {
     "name": "stderr",
     "output_type": "stream",
     "text": [
      "  0%|          | 0/15 [00:00<?, ?it/s]"
     ]
    },
    {
     "name": "stdout",
     "output_type": "stream",
     "text": [
      "Calculating posterior...\n",
      "Credible Set Error \n"
     ]
    },
    {
     "name": "stderr",
     "output_type": "stream",
     "text": [
      "  7%|▋         | 1/15 [00:07<01:51,  7.96s/it]"
     ]
    },
    {
     "name": "stdout",
     "output_type": "stream",
     "text": [
      "Calculating posterior...\n"
     ]
    },
    {
     "name": "stderr",
     "output_type": "stream",
     "text": [
      " 13%|█▎        | 2/15 [00:13<01:24,  6.53s/it]"
     ]
    },
    {
     "name": "stdout",
     "output_type": "stream",
     "text": [
      "Calculating posterior...\n",
      "Credible Set Error \n"
     ]
    },
    {
     "name": "stderr",
     "output_type": "stream",
     "text": [
      " 20%|██        | 3/15 [00:18<01:12,  6.02s/it]"
     ]
    },
    {
     "name": "stdout",
     "output_type": "stream",
     "text": [
      "Calculating posterior...\n"
     ]
    },
    {
     "name": "stderr",
     "output_type": "stream",
     "text": [
      " 27%|██▋       | 4/15 [00:24<01:04,  5.82s/it]"
     ]
    },
    {
     "name": "stdout",
     "output_type": "stream",
     "text": [
      "Calculating posterior...\n",
      "Credible Set Error \n"
     ]
    },
    {
     "name": "stderr",
     "output_type": "stream",
     "text": [
      " 33%|███▎      | 5/15 [00:29<00:56,  5.70s/it]"
     ]
    },
    {
     "name": "stdout",
     "output_type": "stream",
     "text": [
      "Calculating posterior...\n"
     ]
    },
    {
     "name": "stderr",
     "output_type": "stream",
     "text": [
      " 40%|████      | 6/15 [00:35<00:50,  5.64s/it]"
     ]
    },
    {
     "name": "stdout",
     "output_type": "stream",
     "text": [
      "Calculating posterior...\n"
     ]
    },
    {
     "name": "stderr",
     "output_type": "stream",
     "text": [
      " 47%|████▋     | 7/15 [00:40<00:44,  5.54s/it]"
     ]
    },
    {
     "name": "stdout",
     "output_type": "stream",
     "text": [
      "Calculating posterior...\n"
     ]
    },
    {
     "name": "stderr",
     "output_type": "stream",
     "text": [
      " 53%|█████▎    | 8/15 [00:46<00:38,  5.48s/it]"
     ]
    },
    {
     "name": "stdout",
     "output_type": "stream",
     "text": [
      "Calculating posterior...\n"
     ]
    },
    {
     "name": "stderr",
     "output_type": "stream",
     "text": [
      " 60%|██████    | 9/15 [00:51<00:32,  5.46s/it]"
     ]
    },
    {
     "name": "stdout",
     "output_type": "stream",
     "text": [
      "Calculating posterior...\n",
      "Credible Set Error \n"
     ]
    },
    {
     "name": "stderr",
     "output_type": "stream",
     "text": [
      " 67%|██████▋   | 10/15 [00:56<00:27,  5.44s/it]"
     ]
    },
    {
     "name": "stdout",
     "output_type": "stream",
     "text": [
      "Calculating posterior...\n",
      "Credible Set Error \n"
     ]
    },
    {
     "name": "stderr",
     "output_type": "stream",
     "text": [
      " 73%|███████▎  | 11/15 [01:02<00:21,  5.44s/it]"
     ]
    },
    {
     "name": "stdout",
     "output_type": "stream",
     "text": [
      "Calculating posterior...\n"
     ]
    },
    {
     "name": "stderr",
     "output_type": "stream",
     "text": [
      " 80%|████████  | 12/15 [01:07<00:16,  5.42s/it]"
     ]
    },
    {
     "name": "stdout",
     "output_type": "stream",
     "text": [
      "Calculating posterior...\n"
     ]
    },
    {
     "name": "stderr",
     "output_type": "stream",
     "text": [
      " 87%|████████▋ | 13/15 [01:13<00:10,  5.40s/it]"
     ]
    },
    {
     "name": "stdout",
     "output_type": "stream",
     "text": [
      "Calculating posterior...\n"
     ]
    },
    {
     "name": "stderr",
     "output_type": "stream",
     "text": [
      " 93%|█████████▎| 14/15 [01:18<00:05,  5.40s/it]"
     ]
    },
    {
     "name": "stdout",
     "output_type": "stream",
     "text": [
      "Calculating posterior...\n"
     ]
    },
    {
     "name": "stderr",
     "output_type": "stream",
     "text": [
      "100%|██████████| 15/15 [01:23<00:00,  5.59s/it]\n",
      "100%|██████████| 4/4 [04:09<00:00, 62.46s/it]\n"
     ]
    },
    {
     "data": {
      "image/png": "[encoded data removed]",
      "text/plain": [
       "<Figure size 640x480 with 1 Axes>"
      ]
     },
     "metadata": {},
     "output_type": "display_data"
    }
   ],
   "source": [
    "import numpy as np\n",
    "import jax.numpy as jnp\n",
    "import numpy.random as nprandom\n",
    "import matplotlib.pyplot as plt\n",
    "from amp import MSE, norm_sq_corr, PAL, hausdorff\n",
    "from amp.marginal_separable_jax import q, GAMP_full, SE_fixed_C_v1, GAMP_gaussian_clean\n",
    "import amp.marginal_separable_jax\n",
    "import amp.changepoint_jax as changepoint_jax\n",
    "import amp.signal_configuration\n",
    "from amp.signal_priors import SignalPrior, SparseDiffSignal, SparseGaussianSignal, GaussianSignal\n",
    "from functools import partial\n",
    "from tqdm import tqdm\n",
    "tqdm = partial(tqdm, position=0, leave=True)\n",
    "\n",
    "p = 750\n",
    "σ = 0.1 # noise standard deviation\n",
    "L = 2 # num signals. L-1 changepoints\n",
    "\n",
    "T = 10 # num_iterations\n",
    "num_trials = 15\n",
    "# δ_list = [1.0, 1.5, 2.0, 2.5, 3.0]\n",
    "δ_list = [0.5, 1.0, 1.5, 2.0]\n",
    "\n",
    "# seed = 29\n",
    "# nprandom.seed(2*seed)\n",
    "\n",
    "norm_sq_corr_1_lists = [[] for i in range(len(δ_list))]\n",
    "norm_sq_corr_2_lists = [[] for i in range(len(δ_list))]\n",
    "\n",
    "norm_sq_corr_1_avg_list = []\n",
    "norm_sq_corr_2_avg_list = []\n",
    "norm_sq_corr_1_std_list = []\n",
    "norm_sq_corr_2_std_list = []\n",
    "\n",
    "norm_sq_corr_1_SE_list = []\n",
    "norm_sq_corr_2_SE_list = []\n",
    "\n",
    "norm_sq_corr_1_SE_fixed_lists = [[] for i in range(len(δ_list))]\n",
    "norm_sq_corr_2_SE_fixed_lists = [[] for i in range(len(δ_list))]\n",
    "\n",
    "norm_sq_corr_1_SE_fixed_avg_list = []\n",
    "norm_sq_corr_2_SE_fixed_avg_list = []\n",
    "norm_sq_corr_1_SE_fixed_std_list = []\n",
    "norm_sq_corr_2_SE_fixed_std_list = []\n",
    "\n",
    "mse_1_list = []\n",
    "mse_2_list = []\n",
    "mse_1_SE_list = []\n",
    "mse_2_SE_list = []\n",
    "post_list = [[] for i in range(len(δ_list))]\n",
    "S_lower_upper_list = [[] for i in range(len(δ_list))]\n",
    "coverage_list = [[] for i in range(len(δ_list))]\n",
    "theory_post_list = [[] for i in range(len(δ_list))]\n",
    "theory_S_lower_upper_list = [[] for i in range(len(δ_list))]\n",
    "theory_coverage_list = [[] for i in range(len(δ_list))]\n",
    "empirical_coverage_avg = []\n",
    "empirical_coverage_std = []\n",
    "\n",
    "\n",
    "for i in tqdm(range(len(δ_list))):\n",
    "    δ = δ_list[i]\n",
    "    print(\"--- δ: \", δ, \" ---\")\n",
    "\n",
    "    n = int(δ * p)\n",
    "    B̃_cov = np.eye(L)\n",
    "\n",
    "    # Gaussian Prior\n",
    "    signal_prior = GaussianSignal(B̃_cov)\n",
    "    B̃ = signal_prior.sample(p)\n",
    "    B̂_0 = signal_prior.sample(p)\n",
    "\n",
    "    # Changepoint locations\n",
    "    Δ = lambda n: int(n/4)\n",
    "    C_s = amp.signal_configuration.generate_C_distanced(n, L, Δ = Δ(n))[1:-2] # Only consider cases with exactly one changepoint (not zero)\n",
    "    # import matplotlib.pyplot as plt\n",
    "    # plt.imshow(C_s, cmap='hot', interpolation='nearest') # Plot the possible signal configurations\n",
    "    # # plt.axhline(y=C_true_idx, color='blue', linestyle='--', label=\"C_true\")\n",
    "    # plt.show()\n",
    "\n",
    "    # true_chgpt_locations = lambda n: [int(n/3)]\n",
    "    ϕ = amp.signal_configuration.C_to_marginal(C_s) \n",
    "\n",
    "    ρ = 1/δ * B̃_cov # 1/δ * Covariance matrix of each row of B_0, independent for now but should be generalized later\n",
    "\n",
    "    for trial_num in tqdm(range(num_trials)):\n",
    "\n",
    "        # Select a random true changepoint location\n",
    "        # a, b = 1/4, 3/4\n",
    "        # true_chgpt_locations = lambda n: [ int(((b - a) * np.random.random() + a)*n)]\n",
    "\n",
    "        # C_true = np.zeros((n, )).astype(int)\n",
    "        # loc = 0\n",
    "        # for i in range(len(true_chgpt_locations(n)) + 1):\n",
    "        #     if len(true_chgpt_locations(n)) == 0:\n",
    "        #         break\n",
    "        #     if i >= len(true_chgpt_locations(n)):\n",
    "        #         C_true[loc:] = i\n",
    "        #         break\n",
    "        #     C_true[loc:true_chgpt_locations(n)[i]] = i\n",
    "        #     loc = true_chgpt_locations(n)[i]\n",
    "        j = np.random.randint(0, C_s.shape[0])\n",
    "        C_true = C_s[j, :]\n",
    "        # print(\"C_true_shape: \", C_true.shape)\n",
    "        # print(\"C_true: \", C_true)\n",
    "\n",
    "        # Generate the observation vector Y\n",
    "        X = nprandom.normal(0, np.sqrt(1/n), (n, p))\n",
    "        Θ = X @ B̃\n",
    "        assert Θ.shape == (n, L)\n",
    "        Y = changepoint_jax.q(Θ, C_true, σ).sample()\n",
    "        assert Y.shape == (n, 1)\n",
    "\n",
    "        # B̂, Θ_t, ν, ν̂ = GAMP(T, ϕ, σ, X, Y, signal_prior = signal_prior, verbose=False, seed=None)\n",
    "        # κ_T = ν - ν.T @ np.linalg.inv(ρ) @ ν\n",
    "        # B̂, Θ_t, ν_arr, κ_T_arr, ν̂_arr, κ_B_arr = \\\n",
    "        #     GAMP_full(B̃, δ, p, ϕ, σ, X, Y, C_true, T = T, \\\n",
    "        #     true_signal_prior = signal_prior, \\\n",
    "        #         est_signal_prior = signal_prior, st_ζ = None, \\\n",
    "        #     verbose = False, seed = None, tqdm_disable = True)\n",
    "        # ν_fixed, κ_T_fixed = SE_fixed_C_v1(\\\n",
    "        #     C_true, signal_prior, signal_prior, δ, p, ϕ, L, σ, T, \\\n",
    "        #         ν_arr, κ_T_arr, ν̂_arr, κ_B_arr, st_ζ = None, tqdm_disable = True)\n",
    "        # ν, ν̂, κ_T, κ_B = ν_arr[-1], ν̂_arr[-1], κ_T_arr[-1], κ_B_arr[-1]\n",
    "        # κ_T = ν - ν.T @ np.linalg.inv(ρ) @ ν\n",
    "        # ν_fixed, κ_T_fixed = amp.marginal_separable_jax.SE_fixed_C(C_true, signal_prior, δ, p, ϕ, L, σ, 2 * T, tqdm_disable = True)\n",
    "\n",
    "        B̂, Θ_t, ν, ν̂ = GAMP_gaussian_clean(B̂_0, δ, p, ϕ, L, σ, X, Y, ρ, T, prior = None, verbose=False, seed=None, tqdm_disable = True)\n",
    "        κ_T = ν - ν.T @ np.linalg.inv(ρ) @ ν\n",
    "\n",
    "        print(\"Calculating posterior...\")\n",
    "        ### --- Estimate Empirical coverage --- ###\n",
    "        # Compute the approximate credible set S(Θ_t, Y)\n",
    "        post_Θ_Y = amp.posterior.compute_posterior(C_s, Θ_t, Y, n, jnp.array(ρ), σ, ν, κ_T)\n",
    "        post_list[i].append(post_Θ_Y)\n",
    "        α_CI = 0.05\n",
    "        try:\n",
    "            S_lower, S_upper = amp.posterior.bayes_conf_interval(L, α_CI, C_s, post_Θ_Y)\n",
    "        except:\n",
    "            print(\"Credible Set Error \")\n",
    "            S_lower, S_upper = None, None\n",
    "        S_lower_upper_list[i].append((S_lower, S_upper))\n",
    "\n",
    "        # Sample (V_Θ^t, Z), num_post_samp number of times . TODO: Continue from here, sample this num_post_samp number of times, because the plot below is heavily biased to be below nominal coverage. Also, double check that coverage is being calculated correctly. \n",
    "        num_post_samp = 100\n",
    "        Z = (np.array(nprandom.multivariate_normal(jnp.zeros(L), ρ, size=(n, num_post_samp))))\n",
    "        V_θ = (Z @ np.linalg.inv(ρ) @ ν + jnp.array(nprandom.multivariate_normal(\n",
    "            jnp.zeros(L), κ_T, size=(n, num_post_samp))))\n",
    "        Ȳ_samp = changepoint_jax.q(Z, C_true, σ).sample()\n",
    "        post_V_Z = amp.posterior.compute_posterior(C_s, V_θ, Ȳ_samp, n, jnp.array(ρ), σ, ν, κ_T)\n",
    "        if S_lower is not None:\n",
    "            coverage_list[i].append(np.sum(post_V_Z[S_lower:S_upper]))\n",
    "        # else:\n",
    "        #     coverage_list[i].append(None)\n",
    "\n",
    "        # ### --- True coverage according to theory --- ###\n",
    "        # # Compute the approximate credible set S(V_θ, q(Z, Ψ))\n",
    "        # # Sample (V_Θ^t, Z) \n",
    "        # Z = (np.array(nprandom.multivariate_normal(jnp.zeros(L), ρ, size=n))).reshape(n, L)\n",
    "        # V_θ = (Z @ np.linalg.inv(ρ) @ ν + jnp.array(nprandom.multivariate_normal(\n",
    "        #     jnp.zeros(L), κ_T, size=n))).reshape(n, L)\n",
    "        # Ȳ_samp = changepoint_jax.q(Z, C_true, σ).sample()\n",
    "        # post_V_Z_1 = amp.posterior.compute_posterior(C_s, V_θ, Ȳ_samp, n, jnp.array(ρ), σ, ν, κ_T)\n",
    "        # theory_post_list[i].append(post_V_Z_1)\n",
    "        # α_CI = 0.05\n",
    "        # try:\n",
    "        #     S_lower, S_upper = amp.posterior.bayes_conf_interval(L, α_CI, C_s, post_V_Z_1)\n",
    "        # except:\n",
    "        #     S_lower, S_upper = None, None\n",
    "        # theory_S_lower_upper_list[i].append((S_lower, S_upper))\n",
    "\n",
    "        # # Sample (V_Θ^t, Z) \n",
    "        # Z = (np.array(nprandom.multivariate_normal(jnp.zeros(L), ρ, size=n))).reshape(n, L)\n",
    "        # V_θ = (Z @ np.linalg.inv(ρ) @ ν + jnp.array(nprandom.multivariate_normal(\n",
    "        #     jnp.zeros(L), κ_T, size=n))).reshape(n, L)\n",
    "        # Ȳ_samp = changepoint_jax.q(Z, C_true, σ).sample()\n",
    "        # post_V_Z_2 = amp.posterior.compute_posterior(C_s, V_θ, Ȳ_samp, n, jnp.array(ρ), σ, ν, κ_T)\n",
    "        # theory_coverage_list[i].append(np.sum(post_V_Z_2[S_lower:S_upper]))\n",
    "\n",
    "        norm_sq_corr_1_lists[i].append(norm_sq_corr(B̂[:, 0], B̃[:, 0]))\n",
    "        norm_sq_corr_2_lists[i].append(norm_sq_corr(B̂[:, 1], B̃[:, 1]))\n",
    "        # norm_sq_corr_1_SE_fixed_lists[i].append(ν_fixed[0, 0]**2 / ( ρ[0, 0] * (κ_T_fixed + ν_fixed.T @ np.linalg.inv(ρ) @ ν_fixed)[0, 0])) # Technically shouldn't need to do this since f is always optimal in our case right? \n",
    "        # norm_sq_corr_2_SE_fixed_lists[i].append(ν_fixed[1, 1]**2 / ( ρ[1, 1] * (κ_T_fixed + ν_fixed.T @ np.linalg.inv(ρ) @ ν_fixed)[1, 1]))\n",
    "\n",
    "    norm_sq_corr_1_SE_list.append(ν[0, 0] / ρ[0, 0])\n",
    "    norm_sq_corr_2_SE_list.append(ν[1, 1] / ρ[1, 1])\n",
    "    # mse_1_list.append(MSE(B̂[:, 0], B̃[:, 0]))\n",
    "    # mse_2_list.append(MSE(B̂[:, 1], B̃[:, 1]))\n",
    "    # mse_1_SE_list.append(δ * (ρ[0, 0] - ν[0, 0]))\n",
    "    # mse_2_SE_list.append(δ * (ρ[1, 1] - ν[1, 1]))\n",
    "\n",
    "    norm_sq_corr_1_avg_list.append(np.mean(norm_sq_corr_1_lists[i]))\n",
    "    norm_sq_corr_2_avg_list.append(np.mean(norm_sq_corr_2_lists[i]))\n",
    "    norm_sq_corr_1_std_list.append(np.std(norm_sq_corr_1_lists[i]))\n",
    "    norm_sq_corr_2_std_list.append(np.std(norm_sq_corr_2_lists[i]))\n",
    "\n",
    "    # norm_sq_corr_1_SE_fixed_avg_list.append(np.mean(norm_sq_corr_1_SE_fixed_lists[i]))\n",
    "    # norm_sq_corr_2_SE_fixed_avg_list.append(np.mean(norm_sq_corr_2_SE_fixed_lists[i]))\n",
    "    # norm_sq_corr_1_SE_fixed_std_list.append(np.std(norm_sq_corr_1_SE_fixed_lists[i]))\n",
    "    # norm_sq_corr_2_SE_fixed_std_list.append(np.std(norm_sq_corr_2_SE_fixed_lists[i]))\n",
    "\n",
    "    empirical_coverage_avg.append(np.mean(coverage_list[i]))\n",
    "    empirical_coverage_std.append(np.std(coverage_list[i]))\n",
    "\n",
    "# Sqcorr plots with error bars\n",
    "plt.errorbar(δ_list, norm_sq_corr_1_avg_list, yerr=norm_sq_corr_1_std_list, label=\"AMP 1\", marker=\"o\", ls=\"--\", c=PAL[0], alpha = 0.9)\n",
    "plt.errorbar(δ_list, norm_sq_corr_2_avg_list, yerr=norm_sq_corr_2_std_list, label=\"AMP 2\", marker=\"o\", ls=\"--\", c=PAL[2], alpha = 0.9)\n",
    "# plt.errorbar(δ_list, norm_sq_corr_1_SE_fixed_avg_list, yerr=norm_sq_corr_1_SE_fixed_std_list, label=\"SE-C 1\", ls=\"-\", c=PAL[0], alpha = 0.9)\n",
    "# plt.errorbar(δ_list, norm_sq_corr_2_SE_fixed_avg_list, yerr=norm_sq_corr_2_SE_fixed_std_list, label=\"SE-C 2\", ls=\"-\", c=PAL[2], alpha = 0.9)\n",
    "plt.plot(δ_list, norm_sq_corr_1_SE_list, label=\"SE 1\", ls=\"-.\", c=PAL[0], alpha = 0.2)\n",
    "plt.plot(δ_list, norm_sq_corr_2_SE_list, label=\"SE 2\", ls=\"-.\", c=PAL[2], alpha = 0.2)\n",
    "plt.xlabel(\"δ\")\n",
    "plt.ylabel(\"Norm Sq Corr\")\n",
    "plt.ylim(0, 1)\n",
    "plt.legend()\n",
    "plt.show()\n",
    "\n",
    "# Plot the coverage level of the credible set\n",
    "plt.errorbar(δ_list, empirical_coverage_avg, yerr=empirical_coverage_std, label=\"Empirical Coverage\", marker=\"o\", ls=\"-\", c=PAL[0], alpha = 0.9)\n",
    "# Plot a horizontal line at the true coverage level\n",
    "plt.axhline(y=1 - α_CI, color='k', linestyle='--', alpha = 0.2, label=\"Nominal Coverage\")\n",
    "plt.xlabel(\"δ\")\n",
    "plt.ylabel(\"Coverage\")\n",
    "plt.ylim(0, 1)\n",
    "plt.legend()\n",
    "plt.show()\n",
    "\n",
    "\n",
    "\n",
    "# # Sqcorr plots\n",
    "# plt.plot(δ_list, norm_sq_corr_1_list, label=\"AMP 1\", marker=\"o\", ls=\"--\", c=PAL[0])\n",
    "# plt.plot(δ_list, norm_sq_corr_2_list, label=\"AMP 2\", marker=\"o\", ls=\"--\", c=PAL[2])\n",
    "# plt.plot(δ_list, norm_sq_corr_1_SE_list, label=\"SE 1\", ls=\"-.\", c=PAL[0], alpha = 0.2)\n",
    "# plt.plot(δ_list, norm_sq_corr_2_SE_list, label=\"SE 2\", ls=\"-.\", c=PAL[2], alpha = 0.2)\n",
    "# plt.plot(δ_list, norm_sq_corr_1_SE_fixed_list, label=\"SE-C 1\", ls=\"-\", c=PAL[0])\n",
    "# plt.plot(δ_list, norm_sq_corr_2_SE_fixed_list, label=\"SE-C 2\", ls=\"-\", c=PAL[2])\n",
    "# plt.xlabel(\"δ\")\n",
    "# plt.ylabel(\"Norm Sq Corr\")\n",
    "# plt.ylim(0, 1)\n",
    "# plt.legend()\n",
    "# plt.show()\n",
    "\n",
    "# # MSE plots\n",
    "# plt.plot(δ_list, mse_1_list, label=\"MSE Signal 1\", marker=\"o\", ls=\"--\", c=PAL[0])\n",
    "# plt.plot(δ_list, mse_2_list, label=\"MSE Signal 2\", marker=\"o\", ls=\"--\", c=PAL[2])\n",
    "# plt.plot(δ_list, mse_1_SE_list, label=\"MSE SE Signal 1\", ls=\"-\", c=PAL[0])\n",
    "# plt.plot(δ_list, mse_2_SE_list, label=\"MSE SE Signal 2\", ls=\"-\", c=PAL[2])\n",
    "# plt.xlabel(\"δ\")\n",
    "# plt.ylabel(\"MSE\")\n",
    "# plt.ylim(0, 1)\n",
    "# plt.legend()\n",
    "# plt.show()\n"
   ]
  },
  {
   "cell_type": "code",
   "execution_count": 2,
   "id": "96f56aad",
   "metadata": {},
   "outputs": [
    {
     "data": {
      "image/png": "[encoded data removed]",
      "text/plain": [
       "<Figure size 640x480 with 1 Axes>"
      ]
     },
     "metadata": {},
     "output_type": "display_data"
    }
   ],
   "source": [
    "# Plot the coverage level of the credible set\n",
    "plt.errorbar(δ_list, empirical_coverage_avg, yerr=empirical_coverage_std, label=\"Empirical Coverage\", marker=\"o\", ls=\"-\", c=PAL[0], alpha = 0.9)\n",
    "# Plot a horizontal line at the true coverage level\n",
    "plt.axhline(y=1 - α_CI, color='k', linestyle='--', alpha = 0.2, label=\"Nominal Coverage\")\n",
    "plt.xlabel(\"δ\")\n",
    "plt.ylabel(\"Coverage\")\n",
    "plt.ylim(0, 1)\n",
    "plt.legend()\n",
    "plt.show()"
   ]
  },
  {
   "cell_type": "code",
   "execution_count": 2,
   "id": "6fdfcc9e",
   "metadata": {},
   "outputs": [
    {
     "data": {
      "text/plain": [
       "[DeviceArray(0.68902114, dtype=float64),\n",
       " DeviceArray(2.43752742, dtype=float64),\n",
       " DeviceArray(9.08284419, dtype=float64),\n",
       " DeviceArray(41.65359088, dtype=float64)]"
      ]
     },
     "execution_count": 2,
     "metadata": {},
     "output_type": "execute_result"
    }
   ],
   "source": [
    "norm_sq_corr_1_SE_list"
   ]
  },
  {
   "cell_type": "code",
   "execution_count": 13,
   "id": "7aff3c6e",
   "metadata": {},
   "outputs": [
    {
     "data": {
      "image/png": "[encoded data removed]",
      "text/plain": [
       "<Figure size 640x480 with 1 Axes>"
      ]
     },
     "metadata": {},
     "output_type": "display_data"
    }
   ],
   "source": [
    "# Sqcorr plots with error bars\n",
    "plt.errorbar(δ_list, norm_sq_corr_1_avg_list, yerr=norm_sq_corr_1_std_list, label=\"AMP 1\", marker=\"o\", ls=\"--\", c=PAL[0], alpha = 0.9)\n",
    "plt.errorbar(δ_list, norm_sq_corr_2_avg_list, yerr=norm_sq_corr_2_std_list, label=\"AMP 2\", marker=\"o\", ls=\"--\", c=PAL[2], alpha = 0.9)\n",
    "# plt.errorbar(δ_list, norm_sq_corr_1_SE_fixed_avg_list, yerr=norm_sq_corr_1_SE_fixed_std_list, label=\"SE-C 1\", ls=\"-\", c=PAL[0], alpha = 0.9)\n",
    "# plt.errorbar(δ_list, norm_sq_corr_2_SE_fixed_avg_list, yerr=norm_sq_corr_2_SE_fixed_std_list, label=\"SE-C 2\", ls=\"-\", c=PAL[2], alpha = 0.9)\n",
    "plt.plot(δ_list, norm_sq_corr_1_SE_list, label=\"SE 1\", ls=\"-.\", c=PAL[0], alpha = 0.2)\n",
    "plt.plot(δ_list, norm_sq_corr_2_SE_list, label=\"SE 2\", ls=\"-.\", c=PAL[2], alpha = 0.2)\n",
    "plt.xlabel(\"δ\")\n",
    "plt.ylabel(\"Norm Sq Corr\")\n",
    "plt.ylim(0, 1)\n",
    "plt.legend()\n",
    "plt.show()"
   ]
  },
  {
   "cell_type": "code",
   "execution_count": 18,
   "metadata": {},
   "outputs": [
    {
     "ename": "ValueError",
     "evalue": "setting an array element with a sequence. The requested array has an inhomogeneous shape after 1 dimensions. The detected shape was (12,) + inhomogeneous part.",
     "output_type": "error",
     "traceback": [
      "\u001b[0;31m---------------------------------------------------------------------------\u001b[0m",
      "\u001b[0;31mValueError\u001b[0m                                Traceback (most recent call last)",
      "\u001b[1;32m/Users/gabrielarpino/Documents/PhD (Local)/amp/Changepoint Posterior.ipynb Cell 11\u001b[0m line \u001b[0;36m1\n\u001b[1;32m      <a href='vscode-notebook-cell:/Users/gabrielarpino/Documents/PhD%20%28Local%29/amp/Changepoint%20Posterior.ipynb#X12sZmlsZQ%3D%3D?line=7'>8</a>\u001b[0m prior \u001b[39m=\u001b[39m [\u001b[39m1\u001b[39m\u001b[39m/\u001b[39mC_s\u001b[39m.\u001b[39mshape[\u001b[39m0\u001b[39m] \u001b[39mfor\u001b[39;00m i \u001b[39min\u001b[39;00m \u001b[39mrange\u001b[39m(C_s\u001b[39m.\u001b[39mshape[\u001b[39m0\u001b[39m])]\n\u001b[1;32m      <a href='vscode-notebook-cell:/Users/gabrielarpino/Documents/PhD%20%28Local%29/amp/Changepoint%20Posterior.ipynb#X12sZmlsZQ%3D%3D?line=8'>9</a>\u001b[0m \u001b[39m# plt.bar(C_indx, prior, alpha=0.5, label=\"prior\")\u001b[39;00m\n\u001b[1;32m     <a href='vscode-notebook-cell:/Users/gabrielarpino/Documents/PhD%20%28Local%29/amp/Changepoint%20Posterior.ipynb#X12sZmlsZQ%3D%3D?line=9'>10</a>\u001b[0m \u001b[39m# plt.bar(idx(n_s[0]), post_list[0], width = 0.01, alpha=1, label=\"δ = 0.5, Θ_t\", color=PAL3[0])\u001b[39;00m\n\u001b[0;32m---> <a href='vscode-notebook-cell:/Users/gabrielarpino/Documents/PhD%20%28Local%29/amp/Changepoint%20Posterior.ipynb#X12sZmlsZQ%3D%3D?line=10'>11</a>\u001b[0m plt\u001b[39m.\u001b[39;49mbar(idx(n_s[\u001b[39m1\u001b[39;49m]), post_list[\u001b[39m1\u001b[39;49m], width \u001b[39m=\u001b[39;49m \u001b[39m0.01\u001b[39;49m, alpha\u001b[39m=\u001b[39;49m\u001b[39m1\u001b[39;49m, label\u001b[39m=\u001b[39;49m\u001b[39m\"\u001b[39;49m\u001b[39mδ = 1.0, Θ_t\u001b[39;49m\u001b[39m\"\u001b[39;49m, color\u001b[39m=\u001b[39;49mPAL3[\u001b[39m1\u001b[39;49m])\n\u001b[1;32m     <a href='vscode-notebook-cell:/Users/gabrielarpino/Documents/PhD%20%28Local%29/amp/Changepoint%20Posterior.ipynb#X12sZmlsZQ%3D%3D?line=11'>12</a>\u001b[0m plt\u001b[39m.\u001b[39mbar(idx(n_s[\u001b[39m2\u001b[39m])\u001b[39m.\u001b[39mflatten(), post_list[\u001b[39m2\u001b[39m], width \u001b[39m=\u001b[39m \u001b[39m0.01\u001b[39m, alpha\u001b[39m=\u001b[39m\u001b[39m1\u001b[39m, label\u001b[39m=\u001b[39m\u001b[39m\"\u001b[39m\u001b[39mδ = 1.5, Θ_t\u001b[39m\u001b[39m\"\u001b[39m, color\u001b[39m=\u001b[39mPAL3[\u001b[39m2\u001b[39m])\n\u001b[1;32m     <a href='vscode-notebook-cell:/Users/gabrielarpino/Documents/PhD%20%28Local%29/amp/Changepoint%20Posterior.ipynb#X12sZmlsZQ%3D%3D?line=12'>13</a>\u001b[0m \u001b[39m# plt.bar(idx(n_s[3]).flatten(), post_list[3].flatten(), width = 0.005, alpha=1, label=\"δ = 2.0, Θ_t\", color=PAL3[3])\u001b[39;00m\n\u001b[1;32m     <a href='vscode-notebook-cell:/Users/gabrielarpino/Documents/PhD%20%28Local%29/amp/Changepoint%20Posterior.ipynb#X12sZmlsZQ%3D%3D?line=13'>14</a>\u001b[0m \u001b[39m# plt.bar(idx(n_s[4]).flatten(), post_list[4].flatten(), width = 0.005, alpha=1, label=\"δ = 2.5, Θ_t\", color=PAL3[4])\u001b[39;00m\n\u001b[1;32m     <a href='vscode-notebook-cell:/Users/gabrielarpino/Documents/PhD%20%28Local%29/amp/Changepoint%20Posterior.ipynb#X12sZmlsZQ%3D%3D?line=14'>15</a>\u001b[0m \u001b[39m# plt.bar(idx(n_s[5]).flatten(), post_list[5].flatten(), width = 0.005, alpha=1, label=\"δ = 3.0, Θ_t\", color=PAL3[5])\u001b[39;00m\n\u001b[1;32m     <a href='vscode-notebook-cell:/Users/gabrielarpino/Documents/PhD%20%28Local%29/amp/Changepoint%20Posterior.ipynb#X12sZmlsZQ%3D%3D?line=15'>16</a>\u001b[0m \u001b[39m# draw a vertical line at the true change point\u001b[39;00m\n",
      "File \u001b[0;32m~/.local/lib/python3.10/site-packages/matplotlib/pyplot.py:2439\u001b[0m, in \u001b[0;36mbar\u001b[0;34m(x, height, width, bottom, align, data, **kwargs)\u001b[0m\n\u001b[1;32m   2435\u001b[0m \u001b[39m@_copy_docstring_and_deprecators\u001b[39m(Axes\u001b[39m.\u001b[39mbar)\n\u001b[1;32m   2436\u001b[0m \u001b[39mdef\u001b[39;00m \u001b[39mbar\u001b[39m(\n\u001b[1;32m   2437\u001b[0m         x, height, width\u001b[39m=\u001b[39m\u001b[39m0.8\u001b[39m, bottom\u001b[39m=\u001b[39m\u001b[39mNone\u001b[39;00m, \u001b[39m*\u001b[39m, align\u001b[39m=\u001b[39m\u001b[39m'\u001b[39m\u001b[39mcenter\u001b[39m\u001b[39m'\u001b[39m,\n\u001b[1;32m   2438\u001b[0m         data\u001b[39m=\u001b[39m\u001b[39mNone\u001b[39;00m, \u001b[39m*\u001b[39m\u001b[39m*\u001b[39mkwargs):\n\u001b[0;32m-> 2439\u001b[0m     \u001b[39mreturn\u001b[39;00m gca()\u001b[39m.\u001b[39;49mbar(\n\u001b[1;32m   2440\u001b[0m         x, height, width\u001b[39m=\u001b[39;49mwidth, bottom\u001b[39m=\u001b[39;49mbottom, align\u001b[39m=\u001b[39;49malign,\n\u001b[1;32m   2441\u001b[0m         \u001b[39m*\u001b[39;49m\u001b[39m*\u001b[39;49m({\u001b[39m\"\u001b[39;49m\u001b[39mdata\u001b[39;49m\u001b[39m\"\u001b[39;49m: data} \u001b[39mif\u001b[39;49;00m data \u001b[39mis\u001b[39;49;00m \u001b[39mnot\u001b[39;49;00m \u001b[39mNone\u001b[39;49;00m \u001b[39melse\u001b[39;49;00m {}), \u001b[39m*\u001b[39;49m\u001b[39m*\u001b[39;49mkwargs)\n",
      "File \u001b[0;32m~/.local/lib/python3.10/site-packages/matplotlib/__init__.py:1442\u001b[0m, in \u001b[0;36m_preprocess_data.<locals>.inner\u001b[0;34m(ax, data, *args, **kwargs)\u001b[0m\n\u001b[1;32m   1439\u001b[0m \u001b[39m@functools\u001b[39m\u001b[39m.\u001b[39mwraps(func)\n\u001b[1;32m   1440\u001b[0m \u001b[39mdef\u001b[39;00m \u001b[39minner\u001b[39m(ax, \u001b[39m*\u001b[39margs, data\u001b[39m=\u001b[39m\u001b[39mNone\u001b[39;00m, \u001b[39m*\u001b[39m\u001b[39m*\u001b[39mkwargs):\n\u001b[1;32m   1441\u001b[0m     \u001b[39mif\u001b[39;00m data \u001b[39mis\u001b[39;00m \u001b[39mNone\u001b[39;00m:\n\u001b[0;32m-> 1442\u001b[0m         \u001b[39mreturn\u001b[39;00m func(ax, \u001b[39m*\u001b[39;49m\u001b[39mmap\u001b[39;49m(sanitize_sequence, args), \u001b[39m*\u001b[39;49m\u001b[39m*\u001b[39;49mkwargs)\n\u001b[1;32m   1444\u001b[0m     bound \u001b[39m=\u001b[39m new_sig\u001b[39m.\u001b[39mbind(ax, \u001b[39m*\u001b[39margs, \u001b[39m*\u001b[39m\u001b[39m*\u001b[39mkwargs)\n\u001b[1;32m   1445\u001b[0m     auto_label \u001b[39m=\u001b[39m (bound\u001b[39m.\u001b[39marguments\u001b[39m.\u001b[39mget(label_namer)\n\u001b[1;32m   1446\u001b[0m                   \u001b[39mor\u001b[39;00m bound\u001b[39m.\u001b[39mkwargs\u001b[39m.\u001b[39mget(label_namer))\n",
      "File \u001b[0;32m~/.local/lib/python3.10/site-packages/matplotlib/axes/_axes.py:2417\u001b[0m, in \u001b[0;36mAxes.bar\u001b[0;34m(self, x, height, width, bottom, align, **kwargs)\u001b[0m\n\u001b[1;32m   2414\u001b[0m     \u001b[39mif\u001b[39;00m yerr \u001b[39mis\u001b[39;00m \u001b[39mnot\u001b[39;00m \u001b[39mNone\u001b[39;00m:\n\u001b[1;32m   2415\u001b[0m         yerr \u001b[39m=\u001b[39m \u001b[39mself\u001b[39m\u001b[39m.\u001b[39m_convert_dx(yerr, y0, y, \u001b[39mself\u001b[39m\u001b[39m.\u001b[39mconvert_yunits)\n\u001b[0;32m-> 2417\u001b[0m x, height, width, y, linewidth, hatch \u001b[39m=\u001b[39m np\u001b[39m.\u001b[39;49mbroadcast_arrays(\n\u001b[1;32m   2418\u001b[0m     \u001b[39m# Make args iterable too.\u001b[39;49;00m\n\u001b[1;32m   2419\u001b[0m     np\u001b[39m.\u001b[39;49matleast_1d(x), height, width, y, linewidth, hatch)\n\u001b[1;32m   2421\u001b[0m \u001b[39m# Now that units have been converted, set the tick locations.\u001b[39;00m\n\u001b[1;32m   2422\u001b[0m \u001b[39mif\u001b[39;00m orientation \u001b[39m==\u001b[39m \u001b[39m'\u001b[39m\u001b[39mvertical\u001b[39m\u001b[39m'\u001b[39m:\n",
      "File \u001b[0;32m<__array_function__ internals>:200\u001b[0m, in \u001b[0;36mbroadcast_arrays\u001b[0;34m(*args, **kwargs)\u001b[0m\n",
      "File \u001b[0;32m~/miniforge3/lib/python3.10/site-packages/numpy/lib/stride_tricks.py:538\u001b[0m, in \u001b[0;36mbroadcast_arrays\u001b[0;34m(subok, *args)\u001b[0m\n\u001b[1;32m    482\u001b[0m \u001b[39m\"\"\"\u001b[39;00m\n\u001b[1;32m    483\u001b[0m \u001b[39mBroadcast any number of arrays against each other.\u001b[39;00m\n\u001b[1;32m    484\u001b[0m \n\u001b[0;32m   (...)\u001b[0m\n\u001b[1;32m    531\u001b[0m \n\u001b[1;32m    532\u001b[0m \u001b[39m\"\"\"\u001b[39;00m\n\u001b[1;32m    533\u001b[0m \u001b[39m# nditer is not used here to avoid the limit of 32 arrays.\u001b[39;00m\n\u001b[1;32m    534\u001b[0m \u001b[39m# Otherwise, something like the following one-liner would suffice:\u001b[39;00m\n\u001b[1;32m    535\u001b[0m \u001b[39m# return np.nditer(args, flags=['multi_index', 'zerosize_ok'],\u001b[39;00m\n\u001b[1;32m    536\u001b[0m \u001b[39m#                  order='C').itviews\u001b[39;00m\n\u001b[0;32m--> 538\u001b[0m args \u001b[39m=\u001b[39m [np\u001b[39m.\u001b[39marray(_m, copy\u001b[39m=\u001b[39m\u001b[39mFalse\u001b[39;00m, subok\u001b[39m=\u001b[39msubok) \u001b[39mfor\u001b[39;00m _m \u001b[39min\u001b[39;00m args]\n\u001b[1;32m    540\u001b[0m shape \u001b[39m=\u001b[39m _broadcast_shape(\u001b[39m*\u001b[39margs)\n\u001b[1;32m    542\u001b[0m \u001b[39mif\u001b[39;00m \u001b[39mall\u001b[39m(array\u001b[39m.\u001b[39mshape \u001b[39m==\u001b[39m shape \u001b[39mfor\u001b[39;00m array \u001b[39min\u001b[39;00m args):\n\u001b[1;32m    543\u001b[0m     \u001b[39m# Common case where nothing needs to be broadcasted.\u001b[39;00m\n",
      "File \u001b[0;32m~/miniforge3/lib/python3.10/site-packages/numpy/lib/stride_tricks.py:538\u001b[0m, in \u001b[0;36m<listcomp>\u001b[0;34m(.0)\u001b[0m\n\u001b[1;32m    482\u001b[0m \u001b[39m\"\"\"\u001b[39;00m\n\u001b[1;32m    483\u001b[0m \u001b[39mBroadcast any number of arrays against each other.\u001b[39;00m\n\u001b[1;32m    484\u001b[0m \n\u001b[0;32m   (...)\u001b[0m\n\u001b[1;32m    531\u001b[0m \n\u001b[1;32m    532\u001b[0m \u001b[39m\"\"\"\u001b[39;00m\n\u001b[1;32m    533\u001b[0m \u001b[39m# nditer is not used here to avoid the limit of 32 arrays.\u001b[39;00m\n\u001b[1;32m    534\u001b[0m \u001b[39m# Otherwise, something like the following one-liner would suffice:\u001b[39;00m\n\u001b[1;32m    535\u001b[0m \u001b[39m# return np.nditer(args, flags=['multi_index', 'zerosize_ok'],\u001b[39;00m\n\u001b[1;32m    536\u001b[0m \u001b[39m#                  order='C').itviews\u001b[39;00m\n\u001b[0;32m--> 538\u001b[0m args \u001b[39m=\u001b[39m [np\u001b[39m.\u001b[39;49marray(_m, copy\u001b[39m=\u001b[39;49m\u001b[39mFalse\u001b[39;49;00m, subok\u001b[39m=\u001b[39;49msubok) \u001b[39mfor\u001b[39;00m _m \u001b[39min\u001b[39;00m args]\n\u001b[1;32m    540\u001b[0m shape \u001b[39m=\u001b[39m _broadcast_shape(\u001b[39m*\u001b[39margs)\n\u001b[1;32m    542\u001b[0m \u001b[39mif\u001b[39;00m \u001b[39mall\u001b[39m(array\u001b[39m.\u001b[39mshape \u001b[39m==\u001b[39m shape \u001b[39mfor\u001b[39;00m array \u001b[39min\u001b[39;00m args):\n\u001b[1;32m    543\u001b[0m     \u001b[39m# Common case where nothing needs to be broadcasted.\u001b[39;00m\n",
      "\u001b[0;31mValueError\u001b[0m: setting an array element with a sequence. The requested array has an inhomogeneous shape after 1 dimensions. The detected shape was (12,) + inhomogeneous part."
     ]
    },
    {
     "data": {
      "image/png": "[encoded data removed]",
      "text/plain": [
       "<Figure size 640x480 with 1 Axes>"
      ]
     },
     "metadata": {},
     "output_type": "display_data"
    }
   ],
   "source": [
    "PAL3 = ['#ffffcc','#c7e9b4','#7fcdbb','#41b6c4','#2c7fb8','#253494']\n",
    "# PAL3 = ['#0000ff', '#3300cc', '#660099', '#990066', '#cc0033', '#ff0000']\n",
    "n_s = [int(δ * p) for δ in δ_list]\n",
    "C_indx = np.arange(C_s.shape[0])\n",
    "indices = lambda n: np.arange(int(3*n/8), int(5*n/8), 1)\n",
    "idx = lambda n: np.linspace(0, 1, int(5*n/8)-int(3*n/8))\n",
    "# post_list\n",
    "prior = [1/C_s.shape[0] for i in range(C_s.shape[0])]\n",
    "# plt.bar(C_indx, prior, alpha=0.5, label=\"prior\")\n",
    "# plt.bar(idx(n_s[0]), post_list[0], width = 0.01, alpha=1, label=\"δ = 0.5, Θ_t\", color=PAL3[0])\n",
    "plt.bar(idx(n_s[1]), post_list[1], width = 0.01, alpha=1, label=\"δ = 1.0, Θ_t\", color=PAL3[1])\n",
    "plt.bar(idx(n_s[2]).flatten(), post_list[2], width = 0.01, alpha=1, label=\"δ = 1.5, Θ_t\", color=PAL3[2])\n",
    "# plt.bar(idx(n_s[3]).flatten(), post_list[3].flatten(), width = 0.005, alpha=1, label=\"δ = 2.0, Θ_t\", color=PAL3[3])\n",
    "# plt.bar(idx(n_s[4]).flatten(), post_list[4].flatten(), width = 0.005, alpha=1, label=\"δ = 2.5, Θ_t\", color=PAL3[4])\n",
    "# plt.bar(idx(n_s[5]).flatten(), post_list[5].flatten(), width = 0.005, alpha=1, label=\"δ = 3.0, Θ_t\", color=PAL3[5])\n",
    "# draw a vertical line at the true change point\n",
    "plt.axvline(x=0.5, color='k', linestyle='--', alpha = 0.2)\n",
    "# plt.bar(C_indx, post_list[1], alpha=0.5, label=\"δ = 1.0\")\n",
    "plt.ylim(0, 1)\n",
    "plt.xlim(0.2, 0.8)\n",
    "plt.legend()\n",
    "plt.show()\n",
    "# plt.plot(post_list)"
   ]
  },
  {
   "cell_type": "code",
   "execution_count": 6,
   "metadata": {},
   "outputs": [
    {
     "data": {
      "text/plain": [
       "[250, 500, 750, 1000, 1250, 1500]"
      ]
     },
     "execution_count": 6,
     "metadata": {},
     "output_type": "execute_result"
    }
   ],
   "source": [
    "n_s"
   ]
  },
  {
   "cell_type": "code",
   "execution_count": 22,
   "metadata": {},
   "outputs": [
    {
     "data": {
      "text/plain": [
       "(300,)"
      ]
     },
     "execution_count": 22,
     "metadata": {},
     "output_type": "execute_result"
    }
   ],
   "source": [
    "post_list[1][0].shape"
   ]
  },
  {
   "cell_type": "code",
   "execution_count": 24,
   "id": "80b59993",
   "metadata": {},
   "outputs": [
    {
     "data": {
      "text/plain": [
       "(187,)"
      ]
     },
     "execution_count": 24,
     "metadata": {},
     "output_type": "execute_result"
    }
   ],
   "source": [
    "idx(n_s[1]).shape"
   ]
  },
  {
   "cell_type": "code",
   "execution_count": null,
   "id": "6671d431",
   "metadata": {},
   "outputs": [],
   "source": []
  }
 ],
 "metadata": {
  "kernelspec": {
   "display_name": "Python 3 (ipykernel)",
   "language": "python",
   "name": "python3"
  },
  "language_info": {
   "codemirror_mode": {
    "name": "ipython",
    "version": 3
   },
   "file_extension": ".py",
   "mimetype": "text/x-python",
   "name": "python",
   "nbconvert_exporter": "python",
   "pygments_lexer": "ipython3",
   "version": "3.10.10"
  }
 },
 "nbformat": 4,
 "nbformat_minor": 5
}
