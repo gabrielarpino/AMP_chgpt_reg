{
 "cells": [
  {
   "cell_type": "markdown",
   "metadata": {},
   "source": [
    "# Prepare data"
   ]
  },
  {
   "cell_type": "code",
   "execution_count": 1,
   "metadata": {},
   "outputs": [],
   "source": [
    "# Import data from the text file\n",
    "import numpy as np\n",
    "\n",
    "X = np.loadtxt('real_data_experiment/UCI HAR Dataset/train/X_train.txt')\n",
    "y = np.loadtxt('real_data_experiment/UCI HAR Dataset/train/y_train.txt')\n"
   ]
  },
  {
   "cell_type": "markdown",
   "metadata": {},
   "source": [
    "## Visualize"
   ]
  },
  {
   "cell_type": "code",
   "execution_count": 3,
   "metadata": {},
   "outputs": [],
   "source": [
    "import jax.numpy as jnp\n",
    "import matplotlib.pyplot as plt\n",
    "import numpy as np\n",
    "\n",
    "n = X.shape[0]\n",
    "p = X.shape[1]\n",
    "δ = n/p\n",
    "L = 2\n",
    "\n",
    "# Plot a seaborn pairplot of the data\n",
    "import seaborn as sns\n",
    "import pandas as pd\n",
    "df = pd.DataFrame(X)\n",
    "df['y'] = y\n",
    "sns.pairplot(df.sample(1000))\n",
    "plt.show()\n",
    "\n",
    "# Plot useful seaborn plots of the data\n",
    "sns.boxplot(data=df.sample(1000))\n",
    "plt.show()\n",
    "\n",
    "sns.violinplot(data=df.sample(1000))\n",
    "plt.show()\n",
    "\n",
    "sns.heatmap(df.sample(1000).corr())\n",
    "plt.show()\n",
    "\n",
    "# Plot a seaborn pairplot of the log-transformed data\n",
    "df = pd.DataFrame(np.log(X))\n",
    "df['y'] = y\n",
    "sns.pairplot(df.sample(1000))\n",
    "plt.title(\"Log-transformed data\")\n",
    "plt.show()\n",
    "\n",
    "\n"
   ]
  },
  {
   "cell_type": "markdown",
   "metadata": {},
   "source": [
    "## Transform data"
   ]
  },
  {
   "cell_type": "code",
   "execution_count": 2,
   "metadata": {},
   "outputs": [
    {
     "name": "stdout",
     "output_type": "stream",
     "text": [
      "δ:  13.105169340463458\n",
      "Whitened covariance:  [[ 0.9982176  -0.00178252 -0.00178259 ... -0.00178257 -0.00178254\n",
      "  -0.00178254]\n",
      " [-0.00178252  0.99821746 -0.00178258 ... -0.00178255 -0.00178251\n",
      "  -0.00178253]\n",
      " [-0.00178259 -0.00178258  0.99821734 ... -0.00178256 -0.0017826\n",
      "  -0.00178257]\n",
      " ...\n",
      " [-0.00178257 -0.00178256 -0.00178256 ...  0.99821746 -0.00178254\n",
      "  -0.00178256]\n",
      " [-0.00178254 -0.00178251 -0.0017826  ... -0.00178254  0.9982172\n",
      "  -0.00178255]\n",
      " [-0.00178254 -0.00178252 -0.00178257 ... -0.00178255 -0.00178255\n",
      "   0.9982175 ]]\n",
      "Whitened (unit) covariance:  [[ 0.9982176  -0.00178253 -0.00178259 ... -0.00178257 -0.00178254\n",
      "  -0.00178254]\n",
      " [-0.00178253  0.99821746 -0.00178259 ... -0.00178256 -0.00178251\n",
      "  -0.00178252]\n",
      " [-0.00178259 -0.00178259  0.99821734 ... -0.00178256 -0.0017826\n",
      "  -0.00178257]\n",
      " ...\n",
      " [-0.00178257 -0.00178256 -0.00178256 ...  0.99821746 -0.00178254\n",
      "  -0.00178255]\n",
      " [-0.00178254 -0.00178251 -0.0017826  ... -0.00178254  0.9982172\n",
      "  -0.00178256]\n",
      " [-0.00178254 -0.00178253 -0.00178257 ... -0.00178255 -0.00178255\n",
      "   0.9982175 ]]\n",
      "X_prep:  [[-0.01141394  0.00293123  0.01123952 ... -0.00329425 -0.01359118\n",
      "   0.00760493]\n",
      " [-0.000501   -0.00140522  0.00801505 ...  0.00573321  0.00238496\n",
      "  -0.00199936]\n",
      " [-0.00203142  0.00417887  0.00462331 ... -0.01052789 -0.00248584\n",
      "   0.00909372]\n",
      " ...\n",
      " [ 0.00957335  0.00450921  0.01566185 ... -0.00208441  0.00591624\n",
      "   0.00682897]\n",
      " [ 0.0149445   0.00265622 -0.02000988 ...  0.00015715  0.00970664\n",
      "   0.00192628]\n",
      " [ 0.01573459  0.00607172 -0.02275048 ... -0.00731605  0.00141736\n",
      "   0.00371372]]\n",
      "y_prep:  [1 1 1 ... 0 0 0]\n"
     ]
    },
    {
     "data": {
      "text/plain": [
       "[<matplotlib.lines.Line2D at 0x16a1ad5d0>]"
      ]
     },
     "execution_count": 2,
     "metadata": {},
     "output_type": "execute_result"
    },
    {
     "data": {
      "image/png": "[encoded data removed]",
      "text/plain": [
       "<Figure size 640x480 with 1 Axes>"
      ]
     },
     "metadata": {},
     "output_type": "display_data"
    }
   ],
   "source": [
    "# Whiten the data\n",
    "import numpy as np\n",
    "import jax.numpy as jnp\n",
    "from scipy.linalg import sqrtm\n",
    "import seaborn as sns\n",
    "import pandas as pd\n",
    "import matplotlib.pyplot as plt\n",
    "\n",
    "n = X.shape[0]\n",
    "p = X.shape[1]\n",
    "δ = n/p\n",
    "print(\"δ: \", δ)\n",
    "\n",
    "X_white = X - np.mean(X, axis=1).reshape((n, 1))\n",
    "X_white = jnp.real(jnp.array(X_white @ sqrtm(np.linalg.pinv(1/n * X_white.T @ X_white))))\n",
    "\n",
    "print(\"Whitened covariance: \", 1/n * X_white.T @ X_white)\n",
    "\n",
    "# X_partial_log_white = X - np.mean(X, axis=0)\n",
    "# X_partial_log_white = jnp.array(X_partial_log_white @ sqrtm(np.linalg.inv(1/n * X_partial_log_white.T @ X_partial_log_white)))\n",
    "\n",
    "# # Plot a seaborn pairplot of the log-transformed data\n",
    "# df = pd.DataFrame(X_partial_log_white)\n",
    "# df['y'] = y\n",
    "# sns.pairplot(df)\n",
    "# plt.title(\"Log-transformed data\")\n",
    "# plt.show()\n",
    "\n",
    "# Map the covariates to a gaussian distribution using scikit-learn's PowerTransformer\n",
    "# from sklearn.preprocessing import PowerTransformer\n",
    "\n",
    "# pt = PowerTransformer()\n",
    "# X_gaussian = pt.fit_transform(X)\n",
    "\n",
    "# # Plot a seaborn pairplot of the gaussian-transformed data\n",
    "# df = pd.DataFrame(X_gaussian)\n",
    "# df['y'] = y\n",
    "# sns.pairplot(df.sample(1000))\n",
    "# plt.title(\"Gaussian-transformed data\")\n",
    "# plt.show()\n",
    "\n",
    "# Print the covariance matrix of the gaussian-transformed data\n",
    "# print(\"Covariance matrix of the gaussian-transformed data: \", 1/n * X_gaussian.T @ X_gaussian)\n",
    "# Whiten the data using this covariance matrix\n",
    "# X_gaussian_white = X_gaussian - np.mean(X_gaussian, axis=0)\n",
    "# X_gaussian_white = jnp.array(X_gaussian_white @ sqrtm(np.linalg.inv(1/n * X_gaussian.T @ X_gaussian)))\n",
    "# print(\"Covariance matrix of the gaussian-transformed data whitened: \", 1/n * X_gaussian_white.T @ X_gaussian_white)\n",
    "\n",
    "# Set the final data to be used in the analysis\n",
    "X_prep = X_white\n",
    "# X_prep = X_gaussian\n",
    "X_prep = X_prep * np.sqrt(1/n) # Scale appropriately, according to AMP\n",
    "y_prep = jnp.array(y > 3).astype(int)\n",
    "\n",
    "print(\"Whitened (unit) covariance: \", X_prep.T @ X_prep)\n",
    "\n",
    "print(\"X_prep: \", X_prep)\n",
    "print(\"y_prep: \", y_prep)\n",
    "\n",
    "plt.plot(y_prep)"
   ]
  },
  {
   "cell_type": "markdown",
   "metadata": {},
   "source": [
    "# Run AMP"
   ]
  },
  {
   "cell_type": "code",
   "execution_count": 9,
   "metadata": {},
   "outputs": [
    {
     "data": {
      "application/vnd.jupyter.widget-view+json": {
       "model_id": "e7e39a22812540a7b67d305f9871cdb8",
       "version_major": 2,
       "version_minor": 0
      },
      "text/plain": [
       "  0%|          | 0/2 [00:00<?, ?it/s]"
      ]
     },
     "metadata": {},
     "output_type": "display_data"
    },
    {
     "data": {
      "application/vnd.jupyter.widget-view+json": {
       "model_id": "5344e775bfc84e7a9970482692016e1f",
       "version_major": 2,
       "version_minor": 0
      },
      "text/plain": [
       "  0%|          | 0/1 [00:00<?, ?it/s]"
      ]
     },
     "metadata": {},
     "output_type": "display_data"
    },
    {
     "data": {
      "application/vnd.jupyter.widget-view+json": {
       "model_id": "e04cf212619a4707a1c1c794fb0a0560",
       "version_major": 2,
       "version_minor": 0
      },
      "text/plain": [
       "  0%|          | 0/6616 [00:00<?, ?it/s]"
      ]
     },
     "metadata": {},
     "output_type": "display_data"
    },
    {
     "data": {
      "application/vnd.jupyter.widget-view+json": {
       "model_id": "5886fabcf3c84cc5af38c8665768006e",
       "version_major": 2,
       "version_minor": 0
      },
      "text/plain": [
       "  0%|          | 0/3 [00:00<?, ?it/s]"
      ]
     },
     "metadata": {},
     "output_type": "display_data"
    }
   ],
   "source": [
    "import numpy as np\n",
    "import jax.numpy as jnp # Not used in any randomness, all randomness is in numpy\n",
    "import numpy.random as nprandom\n",
    "import matplotlib.pyplot as plt\n",
    "from amp import norm_sq_corr, PAL\n",
    "from amp.marginal_separable_jax_logistic import q, GAMP_full, GAMP_gaussian_clean\n",
    "import amp.signal_configuration\n",
    "from amp.signal_configuration import unif_prior_to_η_ϕ, unif_prior_to_η_ϕ_combinations\n",
    "from amp.signal_priors import SignalPrior, SparseDiffSignal, SparseGaussianSignal, GaussianSignal\n",
    "import amp.posterior_logistic\n",
    "from amp.signal_priors import GaussianSignal\n",
    "from functools import partial\n",
    "from tqdm import tqdm\n",
    "tqdm = partial(tqdm, position=0, leave=True)\n",
    "\n",
    "\n",
    "# --- Preliminaries ---\n",
    "\n",
    "T = 3\n",
    "σ = 0.1\n",
    "L = 2\n",
    "# Changepoint locations\n",
    "Δ = lambda n: int(n/20)\n",
    "Lmin = 1\n",
    "Lmax = L\n",
    "p_l = 1/L * np.ones(L) # puts equal weight on all number of signals, set None otherwise. Best for estimating size. \n",
    "num_valid_configs, η_arr, p_η_arr, ϕ = unif_prior_to_η_ϕ_combinations(Lmin, Lmax, Δ(n), n, p_l = p_l) # Lxn matrix\n",
    "assert η_arr.shape == (num_valid_configs, Lmax-1) and \\\n",
    "    len(p_η_arr) == num_valid_configs\n",
    "assert ϕ.shape == (Lmax, n)\n",
    "\n",
    "# Gaussian Signal Prior\n",
    "B̃_cov = 1 * np.eye(L)\n",
    "B̃_cov[0, 1] = 0.0\n",
    "B̃_cov[1, 0] = 0.0\n",
    "signal_prior = GaussianSignal(B̃_cov)\n",
    "\n",
    "B̃ = signal_prior.sample(p)\n",
    "ρ = 1/δ * 1/p * B̃.T @ B̃\n",
    "B̂_0 = signal_prior.sample(p)\n",
    "\n",
    "# Generate the observation vector Y\n",
    "# X_prep = np.random.normal(0, np.sqrt(1/n), (n, p))\n",
    "# Θ = X @ B̃\n",
    "# ε = np.random.rand(n) # uniform dist\n",
    "C_true = jnp.zeros(n).astype(int)\n",
    "# Y = q(Θ, jnp.ones(n).astype(int), ε) \n",
    "\n",
    "# B̂, Θ_t, ν_arr, κ_T_arr, ν̂_arr, κ_B_arr, ν_fixed_arr, κ_T_fixed_arr, ν̂_fixed_arr, κ_B_fixed_arr = GAMP_full(B̃, δ, p, ϕ, σ, X_prep, y_prep, C_true, T, B̂_0, signal_prior, signal_prior, st_ζ = None, verbose = False, seed = None, tqdm_disable = False)\n",
    "B̂, Θ_t, ν, ν̂  = GAMP_gaussian_clean(B̂_0, δ, p, ϕ, L, σ, X_prep, y_prep, ρ, T, prior = None, verbose=False, seed=None, tqdm_disable = False)\n",
    "κ_T = ν - ν.T @ jnp.linalg.inv(ρ) @ ν"
   ]
  },
  {
   "cell_type": "code",
   "execution_count": 11,
   "metadata": {},
   "outputs": [
    {
     "data": {
      "application/vnd.jupyter.widget-view+json": {
       "model_id": "037f5517b0114cac8a910c9ce740a2df",
       "version_major": 2,
       "version_minor": 0
      },
      "text/plain": [
       "  0%|          | 0/6618 [00:00<?, ?it/s]"
      ]
     },
     "metadata": {},
     "output_type": "display_data"
    },
    {
     "name": "stdout",
     "output_type": "stream",
     "text": [
      "Change point estimation:  []\n"
     ]
    },
    {
     "data": {
      "text/plain": [
       "[<matplotlib.lines.Line2D at 0x4a0a336a0>]"
      ]
     },
     "execution_count": 11,
     "metadata": {},
     "output_type": "execute_result"
    },
    {
     "data": {
      "image/png": "[encoded data removed]",
      "text/plain": [
       "<Figure size 640x480 with 1 Axes>"
      ]
     },
     "metadata": {},
     "output_type": "display_data"
    }
   ],
   "source": [
    "κ_T = ν - ν.T @ jnp.linalg.inv(ρ) @ ν\n",
    "ψ_arr_amp, η_idx_amp = amp.signal_configuration.η_to_ψ_jax_combinations_mapped(η_arr, n, L)       \n",
    "post_amp = amp.posterior_logistic.compute_approx_posterior(ψ_arr_amp, Θ_t, y_prep, n, ρ, σ, ν, κ_T)\n",
    "map_idx_amp = np.argmax(post_amp)\n",
    "ψ̂ = ψ_arr_amp[map_idx_amp]\n",
    "η̂ = η_arr[η_idx_amp[map_idx_amp]]\n",
    "η̂ = η̂[η̂ > 0]\n",
    "print(\"Change point estimation: \", η̂)\n",
    "plt.plot(post_amp)"
   ]
  },
  {
   "cell_type": "code",
   "execution_count": null,
   "metadata": {},
   "outputs": [],
   "source": []
  }
 ],
 "metadata": {
  "kernelspec": {
   "display_name": "base",
   "language": "python",
   "name": "python3"
  },
  "language_info": {
   "codemirror_mode": {
    "name": "ipython",
    "version": 3
   },
   "file_extension": ".py",
   "mimetype": "text/x-python",
   "name": "python",
   "nbconvert_exporter": "python",
   "pygments_lexer": "ipython3",
   "version": "3.10.10"
  }
 },
 "nbformat": 4,
 "nbformat_minor": 2
}
