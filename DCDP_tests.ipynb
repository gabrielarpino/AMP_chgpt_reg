{
 "cells": [
  {
   "cell_type": "code",
   "execution_count": 12,
   "metadata": {},
   "outputs": [
    {
     "name": "stdout",
     "output_type": "stream",
     "text": [
      "Running dcdp...\n"
     ]
    }
   ],
   "source": [
    "import numpy as np\n",
    "import jax.numpy as jnp\n",
    "import numpy.random as nprandom\n",
    "import matplotlib.pyplot as plt\n",
    "from amp import MSE, norm_sq_corr, PAL, hausdorff\n",
    "from amp.marginal_separable_jax import GAMP_full, SE_fixed_C_v1\n",
    "import amp.changepoint_jax as changepoint_jax\n",
    "import amp.signal_configuration\n",
    "from tqdm.auto import tqdm\n",
    "from amp.signal_configuration import C_to_chgpt, generate_C_distanced, unif_prior_to_η_ϕ\n",
    "from amp.signal_priors import SignalPrior, SparseDiffSignal, SparseGaussianSignal, GaussianSignal\n",
    "from amp.posterior import MAP, MAP_η, compute_posterior, posterior_over_η, η_to_ψ\n",
    "from amp.marginal_separable_jax import GAMP_gaussian_clean, GAMP_real_data, q\n",
    "\n",
    "p = 80\n",
    "n = int(1.3 * p)\n",
    "σ = 0.0001 # noise standard deviation\n",
    "L = 3\n",
    "\n",
    "possible_chgpt_configurations = [[0.3, 0.7]]\n",
    "true_chgpt_locations = lambda n: (n * np.array(possible_chgpt_configurations[0])).astype(int)\n",
    "C_true = η_to_ψ(np.array(true_chgpt_locations(n)), n)\n",
    "\n",
    "signal_prior = GaussianSignal(np.eye(L))\n",
    "B̃ = signal_prior.sample(p)\n",
    "X = np.random.normal(0, np.sqrt(1/n), (n, p))\n",
    "Θ = X @ B̃\n",
    "assert Θ.shape == (n, L)\n",
    "Y = changepoint_jax.q(Θ, C_true, σ).sample()\n",
    "\n",
    "#  Run DCDP\n",
    "X_unit = np.sqrt(n) * X\n",
    "Y_unit = np.sqrt(n) * Y\n",
    "print(\"Running dcdp...\")\n",
    "dcdp_est = amp.comparison.DCDP(X_unit, Y_unit, λ_list = [5], γ_list = [5])"
   ]
  },
  {
   "cell_type": "code",
   "execution_count": 13,
   "metadata": {},
   "outputs": [
    {
     "data": {
      "text/plain": [
       "[]"
      ]
     },
     "execution_count": 13,
     "metadata": {},
     "output_type": "execute_result"
    }
   ],
   "source": [
    "dcdp_est"
   ]
  },
  {
   "cell_type": "code",
   "execution_count": 14,
   "metadata": {},
   "outputs": [
    {
     "data": {
      "text/plain": [
       "72.8"
      ]
     },
     "execution_count": 14,
     "metadata": {},
     "output_type": "execute_result"
    }
   ],
   "source": [
    "n * 0.7"
   ]
  },
  {
   "cell_type": "code",
   "execution_count": 7,
   "metadata": {},
   "outputs": [
    {
     "name": "stderr",
     "output_type": "stream",
     "text": [
      "/Users/gabrielarpino/.local/lib/python3.10/site-packages/sklearn/linear_model/_coordinate_descent.py:628: ConvergenceWarning: Objective did not converge. You might want to increase the number of iterations, check the scale of the features or consider increasing regularisation. Duality gap: 2.560e-01, tolerance: 6.850e-02\n",
      "  model = cd_fast.enet_coordinate_descent(\n",
      "/Users/gabrielarpino/.local/lib/python3.10/site-packages/sklearn/linear_model/_coordinate_descent.py:628: ConvergenceWarning: Objective did not converge. You might want to increase the number of iterations, check the scale of the features or consider increasing regularisation. Duality gap: 9.946e-02, tolerance: 9.134e-02\n",
      "  model = cd_fast.enet_coordinate_descent(\n",
      "/Users/gabrielarpino/.local/lib/python3.10/site-packages/sklearn/linear_model/_coordinate_descent.py:628: ConvergenceWarning: Objective did not converge. You might want to increase the number of iterations, check the scale of the features or consider increasing regularisation. Duality gap: 8.492e-02, tolerance: 7.310e-02\n",
      "  model = cd_fast.enet_coordinate_descent(\n",
      "/Users/gabrielarpino/.local/lib/python3.10/site-packages/sklearn/linear_model/_coordinate_descent.py:628: ConvergenceWarning: Objective did not converge. You might want to increase the number of iterations, check the scale of the features or consider increasing regularisation. Duality gap: 8.301e-02, tolerance: 5.098e-02\n",
      "  model = cd_fast.enet_coordinate_descent(\n",
      "/Users/gabrielarpino/.local/lib/python3.10/site-packages/sklearn/linear_model/_coordinate_descent.py:628: ConvergenceWarning: Objective did not converge. You might want to increase the number of iterations, check the scale of the features or consider increasing regularisation. Duality gap: 8.109e-02, tolerance: 6.224e-02\n",
      "  model = cd_fast.enet_coordinate_descent(\n",
      "/Users/gabrielarpino/.local/lib/python3.10/site-packages/sklearn/linear_model/_coordinate_descent.py:628: ConvergenceWarning: Objective did not converge. You might want to increase the number of iterations, check the scale of the features or consider increasing regularisation. Duality gap: 6.857e-02, tolerance: 6.811e-02\n",
      "  model = cd_fast.enet_coordinate_descent(\n",
      "/Users/gabrielarpino/.local/lib/python3.10/site-packages/sklearn/linear_model/_coordinate_descent.py:628: ConvergenceWarning: Objective did not converge. You might want to increase the number of iterations, check the scale of the features or consider increasing regularisation. Duality gap: 3.545e-02, tolerance: 2.572e-02\n",
      "  model = cd_fast.enet_coordinate_descent(\n",
      "/Users/gabrielarpino/.local/lib/python3.10/site-packages/sklearn/linear_model/_coordinate_descent.py:628: ConvergenceWarning: Objective did not converge. You might want to increase the number of iterations, check the scale of the features or consider increasing regularisation. Duality gap: 5.610e-02, tolerance: 3.817e-02\n",
      "  model = cd_fast.enet_coordinate_descent(\n",
      "/Users/gabrielarpino/.local/lib/python3.10/site-packages/sklearn/linear_model/_coordinate_descent.py:628: ConvergenceWarning: Objective did not converge. You might want to increase the number of iterations, check the scale of the features or consider increasing regularisation. Duality gap: 1.772e-01, tolerance: 8.170e-02\n",
      "  model = cd_fast.enet_coordinate_descent(\n",
      "/Users/gabrielarpino/.local/lib/python3.10/site-packages/sklearn/linear_model/_coordinate_descent.py:628: ConvergenceWarning: Objective did not converge. You might want to increase the number of iterations, check the scale of the features or consider increasing regularisation. Duality gap: 1.140e-01, tolerance: 8.289e-02\n",
      "  model = cd_fast.enet_coordinate_descent(\n",
      "/Users/gabrielarpino/.local/lib/python3.10/site-packages/sklearn/linear_model/_coordinate_descent.py:628: ConvergenceWarning: Objective did not converge. You might want to increase the number of iterations, check the scale of the features or consider increasing regularisation. Duality gap: 5.503e-01, tolerance: 2.681e-01\n",
      "  model = cd_fast.enet_coordinate_descent(\n",
      "/Users/gabrielarpino/.local/lib/python3.10/site-packages/sklearn/linear_model/_coordinate_descent.py:628: ConvergenceWarning: Objective did not converge. You might want to increase the number of iterations, check the scale of the features or consider increasing regularisation. Duality gap: 4.627e-01, tolerance: 2.572e-01\n",
      "  model = cd_fast.enet_coordinate_descent(\n",
      "/Users/gabrielarpino/.local/lib/python3.10/site-packages/sklearn/linear_model/_coordinate_descent.py:628: ConvergenceWarning: Objective did not converge. You might want to increase the number of iterations, check the scale of the features or consider increasing regularisation. Duality gap: 2.444e-01, tolerance: 1.493e-01\n",
      "  model = cd_fast.enet_coordinate_descent(\n",
      "/Users/gabrielarpino/.local/lib/python3.10/site-packages/sklearn/linear_model/_coordinate_descent.py:628: ConvergenceWarning: Objective did not converge. You might want to increase the number of iterations, check the scale of the features or consider increasing regularisation. Duality gap: 1.773e-01, tolerance: 1.017e-01\n",
      "  model = cd_fast.enet_coordinate_descent(\n",
      "/Users/gabrielarpino/.local/lib/python3.10/site-packages/sklearn/linear_model/_coordinate_descent.py:628: ConvergenceWarning: Objective did not converge. You might want to increase the number of iterations, check the scale of the features or consider increasing regularisation. Duality gap: 3.282e-01, tolerance: 2.864e-01\n",
      "  model = cd_fast.enet_coordinate_descent(\n",
      "/Users/gabrielarpino/.local/lib/python3.10/site-packages/sklearn/linear_model/_coordinate_descent.py:628: ConvergenceWarning: Objective did not converge. You might want to increase the number of iterations, check the scale of the features or consider increasing regularisation. Duality gap: 1.047e-01, tolerance: 6.881e-02\n",
      "  model = cd_fast.enet_coordinate_descent(\n",
      "/Users/gabrielarpino/.local/lib/python3.10/site-packages/sklearn/linear_model/_coordinate_descent.py:628: ConvergenceWarning: Objective did not converge. You might want to increase the number of iterations, check the scale of the features or consider increasing regularisation. Duality gap: 1.047e-01, tolerance: 6.881e-02\n",
      "  model = cd_fast.enet_coordinate_descent(\n",
      "/Users/gabrielarpino/.local/lib/python3.10/site-packages/sklearn/linear_model/_coordinate_descent.py:628: ConvergenceWarning: Objective did not converge. You might want to increase the number of iterations, check the scale of the features or consider increasing regularisation. Duality gap: 2.127e-01, tolerance: 9.128e-02\n",
      "  model = cd_fast.enet_coordinate_descent(\n",
      "/Users/gabrielarpino/.local/lib/python3.10/site-packages/sklearn/linear_model/_coordinate_descent.py:628: ConvergenceWarning: Objective did not converge. You might want to increase the number of iterations, check the scale of the features or consider increasing regularisation. Duality gap: 1.397e-01, tolerance: 9.220e-02\n",
      "  model = cd_fast.enet_coordinate_descent(\n",
      "/Users/gabrielarpino/.local/lib/python3.10/site-packages/sklearn/linear_model/_coordinate_descent.py:628: ConvergenceWarning: Objective did not converge. You might want to increase the number of iterations, check the scale of the features or consider increasing regularisation. Duality gap: 1.950e-02, tolerance: 1.942e-02\n",
      "  model = cd_fast.enet_coordinate_descent(\n",
      "/Users/gabrielarpino/.local/lib/python3.10/site-packages/sklearn/linear_model/_coordinate_descent.py:628: ConvergenceWarning: Objective did not converge. You might want to increase the number of iterations, check the scale of the features or consider increasing regularisation. Duality gap: 4.255e-02, tolerance: 3.860e-02\n",
      "  model = cd_fast.enet_coordinate_descent(\n",
      "/Users/gabrielarpino/.local/lib/python3.10/site-packages/sklearn/linear_model/_coordinate_descent.py:628: ConvergenceWarning: Objective did not converge. You might want to increase the number of iterations, check the scale of the features or consider increasing regularisation. Duality gap: 1.607e-01, tolerance: 8.740e-02\n",
      "  model = cd_fast.enet_coordinate_descent(\n",
      "/Users/gabrielarpino/.local/lib/python3.10/site-packages/sklearn/linear_model/_coordinate_descent.py:628: ConvergenceWarning: Objective did not converge. You might want to increase the number of iterations, check the scale of the features or consider increasing regularisation. Duality gap: 2.345e-02, tolerance: 1.840e-02\n",
      "  model = cd_fast.enet_coordinate_descent(\n",
      "/Users/gabrielarpino/.local/lib/python3.10/site-packages/sklearn/linear_model/_coordinate_descent.py:628: ConvergenceWarning: Objective did not converge. You might want to increase the number of iterations, check the scale of the features or consider increasing regularisation. Duality gap: 1.369e-02, tolerance: 1.125e-02\n",
      "  model = cd_fast.enet_coordinate_descent(\n",
      "/Users/gabrielarpino/.local/lib/python3.10/site-packages/sklearn/linear_model/_coordinate_descent.py:628: ConvergenceWarning: Objective did not converge. You might want to increase the number of iterations, check the scale of the features or consider increasing regularisation. Duality gap: 5.172e-02, tolerance: 3.394e-02\n",
      "  model = cd_fast.enet_coordinate_descent(\n"
     ]
    }
   ],
   "source": [
    "import numpy as np\n",
    "\n",
    "### Import R interfaces\n",
    "import rpy2\n",
    "import rpy2.robjects as ro\n",
    "## To aid in printing HTML in notebooks\n",
    "import rpy2.ipython.html\n",
    "# rpy2.ipython.html.init_printing()\n",
    "from rpy2.robjects.packages import importr, data\n",
    "\n",
    "from amp.performance_measures import hausdorff\n",
    "utils = importr('utils')\n",
    "base = importr('base')\n",
    "# charcoal = importr('charcoal')\n",
    "import rpy2.robjects.numpy2ri\n",
    "rpy2.robjects.numpy2ri.activate()\n",
    "\n",
    "## Import DPDU (R package)\n",
    "chgpts = importr('changepoints')\n",
    "\n",
    "## Import DCDP (Python file in home directory)\n",
    "import amp.DCDP_utils as DCDP_utils\n",
    "\n",
    "λ_list = [5]\n",
    "γ_list = [500]\n",
    "\n",
    "n = Y_unit.shape[0]\n",
    "# The algorithm requires dividing the training set into two parts, \n",
    "# so we do that here:\n",
    "Y_train = Y_unit[np.arange(0, n, 2)]\n",
    "Y_test = Y_unit[np.arange(1, n, 2)]\n",
    "X_train = X_unit[np.arange(0, n, 2), :]\n",
    "X_test = X_unit[np.arange(1, n, 2), :]\n",
    "grid_n = 100\n",
    "dcdp = DCDP_utils.dcdp_cv_grid_linear(grid_n, λ_list, γ_list, smooth = 2, \n",
    "                buffer = 2, step_refine = 1, buffer_refine = 2, lam_refine = 0.1)\n",
    "cp_best, param_best, cp_best_cand = dcdp.fit((Y_train, X_train), (Y_test, X_test))\n",
    "\n",
    "# Run the algorithm on the full dataset and return the best changepoint\n",
    "best_lam, best_gamma = param_best\n",
    "grid_n = min(dcdp.grid_n, n - 1)\n",
    "step = n / (grid_n + 1)\n",
    "grid = np.floor(np.arange(1, grid_n + 1) * step).astype(int)\n",
    "cp_loc, obj = dcdp.dp_grid((Y_unit, X_unit), grid, best_lam, best_gamma)\n",
    "cp_loc_refined = dcdp.local_refine((Y_unit, X_unit), cp_loc)"
   ]
  },
  {
   "cell_type": "code",
   "execution_count": 8,
   "metadata": {},
   "outputs": [
    {
     "data": {
      "text/plain": [
       "[24, 42]"
      ]
     },
     "execution_count": 8,
     "metadata": {},
     "output_type": "execute_result"
    }
   ],
   "source": [
    "cp_best"
   ]
  },
  {
   "cell_type": "code",
   "execution_count": 9,
   "metadata": {},
   "outputs": [
    {
     "data": {
      "text/plain": [
       "[52, 75, 87, 96]"
      ]
     },
     "execution_count": 9,
     "metadata": {},
     "output_type": "execute_result"
    }
   ],
   "source": [
    "cp_loc_refined"
   ]
  },
  {
   "cell_type": "markdown",
   "metadata": {},
   "source": [
    "## Run DP"
   ]
  },
  {
   "cell_type": "code",
   "execution_count": 5,
   "metadata": {},
   "outputs": [],
   "source": [
    "import numpy as np\n",
    "import jax.numpy as jnp\n",
    "import numpy.random as nprandom\n",
    "import matplotlib.pyplot as plt\n",
    "from amp import MSE, norm_sq_corr, PAL, hausdorff\n",
    "from amp.marginal_separable_jax import GAMP_full, SE_fixed_C_v1\n",
    "import amp.changepoint_jax as changepoint_jax\n",
    "import amp.signal_configuration\n",
    "from tqdm.auto import tqdm\n",
    "from amp.signal_configuration import C_to_chgpt, generate_C_distanced, unif_prior_to_η_ϕ\n",
    "from amp.signal_priors import SignalPrior, SparseDiffSignal, SparseGaussianSignal, GaussianSignal\n",
    "from amp.posterior import MAP, MAP_η, compute_posterior, posterior_over_η, η_to_ψ\n",
    "from amp.marginal_separable_jax import GAMP_gaussian_clean, GAMP_real_data, q\n",
    "\n",
    "p = 50\n",
    "n = int(0.75 * p)\n",
    "σ = 0.0001 # noise standard deviation\n",
    "L = 3\n",
    "Δ = 2\n",
    "λ_list = [5]\n",
    "γ_list = [100]\n",
    "\n",
    "possible_chgpt_configurations = [[0.3, 0.7]]\n",
    "true_chgpt_locations = lambda n: (n * np.array(possible_chgpt_configurations[0])).astype(int)\n",
    "C_true = η_to_ψ(np.array(true_chgpt_locations(n)), n)\n",
    "\n",
    "signal_prior = GaussianSignal(np.eye(L))\n",
    "B̃ = signal_prior.sample(p)\n",
    "X = np.random.normal(0, np.sqrt(1/n), (n, p))\n",
    "Θ = X @ B̃\n",
    "assert Θ.shape == (n, L)\n",
    "Y = changepoint_jax.q(Θ, C_true, σ).sample()\n",
    "\n",
    "#  Run DCDP\n",
    "X_unit = np.sqrt(n) * X\n",
    "Y_unit = np.sqrt(n) * Y\n",
    "dp_est = amp.comparison.DP(X_unit, Y_unit, Δ, λ_list, γ_list)"
   ]
  },
  {
   "cell_type": "code",
   "execution_count": 6,
   "metadata": {},
   "outputs": [
    {
     "data": {
      "text/plain": [
       "array([13.])"
      ]
     },
     "execution_count": 6,
     "metadata": {},
     "output_type": "execute_result"
    }
   ],
   "source": [
    "dp_est"
   ]
  },
  {
   "cell_type": "markdown",
   "metadata": {},
   "source": [
    "## Run DPDU"
   ]
  },
  {
   "cell_type": "code",
   "execution_count": 1,
   "metadata": {},
   "outputs": [],
   "source": [
    "import numpy as np\n",
    "import jax.numpy as jnp\n",
    "import numpy.random as nprandom\n",
    "import matplotlib.pyplot as plt\n",
    "from amp import MSE, norm_sq_corr, PAL, hausdorff\n",
    "from amp.marginal_separable_jax import GAMP_full, SE_fixed_C_v1\n",
    "import amp.changepoint_jax as changepoint_jax\n",
    "import amp.signal_configuration\n",
    "from tqdm.auto import tqdm\n",
    "from amp.signal_configuration import C_to_chgpt, generate_C_distanced, unif_prior_to_η_ϕ\n",
    "from amp.signal_priors import SignalPrior, SparseDiffSignal, SparseGaussianSignal, GaussianSignal\n",
    "from amp.posterior import MAP, MAP_η, compute_posterior, posterior_over_η, η_to_ψ\n",
    "from amp.marginal_separable_jax import GAMP_gaussian_clean, GAMP_real_data, q\n",
    "\n",
    "p = 80\n",
    "n = int(1.25 * p)\n",
    "σ = 0.0001 # noise standard deviation\n",
    "L = 3\n",
    "Δ = 2\n",
    "λ_list = [5]\n",
    "γ_list = [100]\n",
    "\n",
    "possible_chgpt_configurations = [[0.3, 0.7]]\n",
    "true_chgpt_locations = lambda n: (n * np.array(possible_chgpt_configurations[0])).astype(int)\n",
    "C_true = η_to_ψ(np.array(true_chgpt_locations(n)), n)\n",
    "\n",
    "signal_prior = GaussianSignal(np.eye(L))\n",
    "B̃ = signal_prior.sample(p)\n",
    "X = np.random.normal(0, np.sqrt(1/n), (n, p))\n",
    "Θ = X @ B̃\n",
    "assert Θ.shape == (n, L)\n",
    "Y = changepoint_jax.q(Θ, C_true, σ).sample()\n",
    "\n",
    "#  Run DCDP\n",
    "X_unit = np.sqrt(n) * X\n",
    "Y_unit = np.sqrt(n) * Y\n",
    "dpdu_est = amp.comparison.DPDU(X_unit, Y_unit, λs = [0.3, 0.5, 1, 2], ζs = [10.0, 15.0, 20.0])"
   ]
  },
  {
   "cell_type": "code",
   "execution_count": 7,
   "metadata": {},
   "outputs": [
    {
     "data": {
      "text/plain": [
       "array([20., 45., 73.])"
      ]
     },
     "execution_count": 7,
     "metadata": {},
     "output_type": "execute_result"
    }
   ],
   "source": [
    "dpdu_est[-1]"
   ]
  },
  {
   "cell_type": "code",
   "execution_count": null,
   "metadata": {},
   "outputs": [],
   "source": []
  }
 ],
 "metadata": {
  "kernelspec": {
   "display_name": "base",
   "language": "python",
   "name": "python3"
  },
  "language_info": {
   "codemirror_mode": {
    "name": "ipython",
    "version": 3
   },
   "file_extension": ".py",
   "mimetype": "text/x-python",
   "name": "python",
   "nbconvert_exporter": "python",
   "pygments_lexer": "ipython3",
   "version": "3.10.10"
  }
 },
 "nbformat": 4,
 "nbformat_minor": 2
}
